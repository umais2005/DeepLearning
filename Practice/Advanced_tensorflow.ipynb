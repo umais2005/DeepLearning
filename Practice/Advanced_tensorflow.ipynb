{
 "cells": [
  {
   "cell_type": "code",
   "execution_count": 1,
   "metadata": {},
   "outputs": [],
   "source": [
    "import tensorflow as tf "
   ]
  },
  {
   "cell_type": "code",
   "execution_count": 22,
   "metadata": {},
   "outputs": [],
   "source": [
    "class MyLayer(tf.keras.layers.Layer):\n",
    "    def __init__(self, n_units,**kwargs):\n",
    "        self.eps = 0.001\n",
    "        super().__init__(**kwargs)\n",
    "\n",
    "    def build(self, input_shape):\n",
    "        self.alphas = self.add_weight(shape=(input_shape[-1:]), initializer='ones',dtype=tf.float32)\n",
    "        self.betas = self.add_weight(shape=(input_shape[-1:]), initializer='zeros',dtype=tf.float32)\n",
    "    \n",
    "    def call(self, X):\n",
    "        mean, var = tf.nn.moments(X, axes=-1, keepdims=True)\n",
    "        return self.alphas * (X-mean)/(tf.sqrt(var)+self.eps) + self.betas\n"
   ]
  },
  {
   "cell_type": "markdown",
   "metadata": {},
   "source": [
    "Then the function should compute and return α ⊗ (X – μ)/(σ + ε)\n",
    "\\+ β, where ⊗ represents itemwise multiplication (*) and ε is a smoothing term\n",
    "(a small constant to avoid division by zero, e.g., 0.001)."
   ]
  },
  {
   "cell_type": "code",
   "execution_count": 23,
   "metadata": {},
   "outputs": [],
   "source": [
    "(X_train, y_train) , (X_test, y_test) = tf.keras.datasets.mnist.load_data()"
   ]
  },
  {
   "cell_type": "code",
   "execution_count": 24,
   "metadata": {},
   "outputs": [],
   "source": [
    "X_train = X_train.reshape(-1, 28*28,)#.shape, y_train.shape\n",
    "X_test = X_test.reshape(-1, 28*28,)#.shape, y_train.shape"
   ]
  },
  {
   "cell_type": "code",
   "execution_count": 26,
   "metadata": {},
   "outputs": [],
   "source": [
    "inputs = tf.keras.layers.Input(shape=(784,))\n",
    "z = MyLayer(30)(inputs)\n",
    "# outputs = tf.keras.layers.Dense(10, activation='softmax')(z)\n",
    "model = tf.keras.Model(inputs=inputs, outputs=z)"
   ]
  },
  {
   "cell_type": "code",
   "execution_count": 37,
   "metadata": {},
   "outputs": [
    {
     "data": {
      "text/plain": [
       "<tf.Tensor: shape=(60000, 784), dtype=float32, numpy=\n",
       "array([[-0.4407846 , -0.4407846 , -0.4407846 , ..., -0.4407846 ,\n",
       "        -0.4407846 , -0.4407846 ],\n",
       "       [-0.47279605, -0.47279605, -0.47279605, ..., -0.47279605,\n",
       "        -0.47279605, -0.47279605],\n",
       "       [-0.37815583, -0.37815583, -0.37815583, ..., -0.37815583,\n",
       "        -0.37815583, -0.37815583],\n",
       "       ...,\n",
       "       [-0.39481747, -0.39481747, -0.39481747, ..., -0.39481747,\n",
       "        -0.39481747, -0.39481747],\n",
       "       [-0.39231744, -0.39231744, -0.39231744, ..., -0.39231744,\n",
       "        -0.39231744, -0.39231744],\n",
       "       [-0.3949141 , -0.3949141 , -0.3949141 , ..., -0.3949141 ,\n",
       "        -0.3949141 , -0.3949141 ]], dtype=float32)>"
      ]
     },
     "execution_count": 37,
     "metadata": {},
     "output_type": "execute_result"
    }
   ],
   "source": [
    "model(X_train)"
   ]
  },
  {
   "cell_type": "code",
   "execution_count": 39,
   "metadata": {},
   "outputs": [],
   "source": [
    "tf.keras.backend.clear_session()\n",
    "inputs_compare = tf.keras.layers.Input(shape=(784,))\n",
    "z_compare = tf.keras.layers.LayerNormalization()(inputs_compare)\n",
    "model_compare = tf.keras.Model(inputs = inputs_compare, outputs=z_compare)"
   ]
  },
  {
   "cell_type": "code",
   "execution_count": 40,
   "metadata": {},
   "outputs": [
    {
     "data": {
      "text/plain": [
       "<tf.Tensor: shape=(60000, 784), dtype=float32, numpy=\n",
       "array([[-0.4407901 , -0.4407901 , -0.4407901 , ..., -0.4407901 ,\n",
       "        -0.4407901 , -0.4407901 ],\n",
       "       [-0.47280166, -0.47280166, -0.47280166, ..., -0.47280166,\n",
       "        -0.47280166, -0.47280166],\n",
       "       [-0.3781615 , -0.3781615 , -0.3781615 , ..., -0.3781615 ,\n",
       "        -0.3781615 , -0.3781615 ],\n",
       "       ...,\n",
       "       [-0.39482293, -0.39482293, -0.39482293, ..., -0.39482293,\n",
       "        -0.39482293, -0.39482293],\n",
       "       [-0.3923233 , -0.3923233 , -0.3923233 , ..., -0.3923233 ,\n",
       "        -0.3923233 , -0.3923233 ],\n",
       "       [-0.39491987, -0.39491987, -0.39491987, ..., -0.39491987,\n",
       "        -0.39491987, -0.39491987]], dtype=float32)>"
      ]
     },
     "execution_count": 40,
     "metadata": {},
     "output_type": "execute_result"
    }
   ],
   "source": [
    "model_compare(X_train)"
   ]
  },
  {
   "cell_type": "code",
   "execution_count": null,
   "metadata": {},
   "outputs": [],
   "source": []
  }
 ],
 "metadata": {
  "kernelspec": {
   "display_name": "data",
   "language": "python",
   "name": "python3"
  },
  "language_info": {
   "codemirror_mode": {
    "name": "ipython",
    "version": 3
   },
   "file_extension": ".py",
   "mimetype": "text/x-python",
   "name": "python",
   "nbconvert_exporter": "python",
   "pygments_lexer": "ipython3",
   "version": "3.10.14"
  }
 },
 "nbformat": 4,
 "nbformat_minor": 2
}
