{
 "cells": [
  {
   "cell_type": "code",
   "execution_count": 127,
   "metadata": {
    "ExecuteTime": {
     "end_time": "2024-06-24T08:28:06.891580Z",
     "start_time": "2024-06-24T08:28:06.871170Z"
    }
   },
   "outputs": [],
   "source": [
    "import tensorflow as tf"
   ]
  },
  {
   "cell_type": "code",
   "execution_count": 128,
   "metadata": {
    "ExecuteTime": {
     "end_time": "2024-06-24T08:27:28.891091Z",
     "start_time": "2024-06-24T08:27:28.891091Z"
    }
   },
   "outputs": [
    {
     "data": {
      "text/plain": [
       "array([0, 0, 0, 0, 0, 0, 0, 0, 0, 0, 0, 0, 0, 0, 0, 0, 0, 0, 0, 0, 0, 0,\n",
       "       0, 0, 0, 0, 0, 0], dtype=uint8)"
      ]
     },
     "execution_count": 128,
     "metadata": {},
     "output_type": "execute_result"
    }
   ],
   "source": [
    "(X_train, y_train), (X_test, y_test) = tf.keras.datasets.fashion_mnist.load_data()\n",
    "# X_train.shape\n",
    "X_valid, y_valid = X_train[50000:], y_train[50000:]\n",
    "X_train[0][1] # IT is numpy form"
   ]
  },
  {
   "cell_type": "code",
   "execution_count": 129,
   "metadata": {
    "ExecuteTime": {
     "end_time": "2024-06-24T08:27:28.892090Z",
     "start_time": "2024-06-24T08:27:28.892090Z"
    }
   },
   "outputs": [],
   "source": [
    "train_dataset = tf.data.Dataset.from_tensor_slices((X_train, y_train))\n",
    "valid_dataset = tf.data.Dataset.from_tensor_slices((X_valid, y_valid))\n",
    "test_dataset = tf.data.Dataset.from_tensor_slices((X_test, y_test))"
   ]
  },
  {
   "cell_type": "code",
   "execution_count": 130,
   "metadata": {},
   "outputs": [],
   "source": [
    "from tensorflow.train import  Example, Feature, Features, BytesList, Int64List# type: ignore\n",
    "def convert_to_Example(record):\n",
    "    image, label = record\n",
    "    b_image = tf.io.serialize_tensor(image)\n",
    "    example = Example(\n",
    "        features=Features(\n",
    "            feature={'image':Feature(bytes_list= BytesList(value=[b_image.numpy()])),\n",
    "                 'label' : Feature(int64_list=Int64List(value=[label]))\n",
    "                    }\n",
    "                )\n",
    "            )\n",
    "    return example"
   ]
  },
  {
   "cell_type": "code",
   "execution_count": 131,
   "metadata": {},
   "outputs": [],
   "source": [
    "def save_to_tfrecord(path, dataset):\n",
    "    writer = tf.io.TFRecordWriter(path)\n",
    "    for record in dataset:\n",
    "        example = convert_to_Example(record).SerializeToString()\n",
    "        writer.write(example)\n",
    "        "
   ]
  },
  {
   "cell_type": "code",
   "execution_count": 132,
   "metadata": {},
   "outputs": [],
   "source": [
    "train_filename = r'.\\records_data\\train.record'\n",
    "test_filename = r'.\\records_data\\test.record'\n",
    "valid_filename = r'.\\records_data\\valid.record'"
   ]
  },
  {
   "cell_type": "code",
   "execution_count": 133,
   "metadata": {},
   "outputs": [],
   "source": [
    "train_dataset = train_dataset.shuffle(50000).prefetch(1)\n",
    "save_to_tfrecord(train_filename, train_dataset)"
   ]
  },
  {
   "cell_type": "code",
   "execution_count": 134,
   "metadata": {},
   "outputs": [],
   "source": [
    "test_dataset = test_dataset.prefetch(1)\n",
    "save_to_tfrecord(test_filename, test_dataset)\n",
    "valid_dataset = valid_dataset.prefetch(1)\n",
    "save_to_tfrecord(valid_filename, valid_dataset)"
   ]
  },
  {
   "cell_type": "code",
   "execution_count": 135,
   "metadata": {},
   "outputs": [],
   "source": [
    "train_record_dataset = tf.data.TFRecordDataset(train_filename)\n",
    "test_record_dataset = tf.data.TFRecordDataset(test_filename)\n",
    "valid_record_dataset = tf.data.TFRecordDataset(valid_filename)"
   ]
  },
  {
   "cell_type": "code",
   "execution_count": 136,
   "metadata": {},
   "outputs": [],
   "source": [
    "record_description = {\n",
    "    'image':tf.io.FixedLenFeature([], tf.string,default_value=''),\n",
    "    'label':tf.io.FixedLenFeature([], tf.int64, default_value=1)\n",
    "}\n",
    "def parse(tfrecord):\n",
    "    example = tf.io.parse_single_example(tfrecord,record_description)\n",
    "    image = tf.io.parse_tensor(example['image'],out_type=tf.uint8)\n",
    "    image = tf.reshape(image, (28,28))\n",
    "    label = example['label']\n",
    "    return image, label"
   ]
  },
  {
   "cell_type": "code",
   "execution_count": 137,
   "metadata": {},
   "outputs": [],
   "source": [
    "def mnist_dataset(filepaths, n_read_threads=5, shuffle_buffer_size=None,\n",
    "                  n_parse_threads=5, batch_size=32, cache=True):\n",
    "    dataset = tf.data.TFRecordDataset(filepaths,\n",
    "                                      num_parallel_reads=n_read_threads)\n",
    "    if cache:\n",
    "        dataset = dataset.cache()\n",
    "    if shuffle_buffer_size:\n",
    "        dataset = dataset.shuffle(shuffle_buffer_size)\n",
    "    dataset = dataset.map(parse, num_parallel_calls=n_parse_threads)\n",
    "    dataset = dataset.batch(batch_size)\n",
    "    return dataset.prefetch(1)"
   ]
  },
  {
   "cell_type": "code",
   "execution_count": 138,
   "metadata": {},
   "outputs": [],
   "source": [
    "train_record_dataset = mnist_dataset(train_filename, shuffle_buffer_size=50000)\n",
    "test_record_dataset = mnist_dataset(test_filename)\n",
    "valid_record_dataset = mnist_dataset(valid_filename)"
   ]
  },
  {
   "cell_type": "code",
   "execution_count": 143,
   "metadata": {},
   "outputs": [
    {
     "data": {
      "image/png": "[encoded data removed]",
      "text/plain": [
       "<Figure size 640x480 with 5 Axes>"
      ]
     },
     "metadata": {},
     "output_type": "display_data"
    }
   ],
   "source": [
    "import matplotlib.pyplot as plt\n",
    "for imgbatch, lblbatch in valid_record_dataset:\n",
    "    for i in range(5):\n",
    "        # print(tf.shape(imgbatch[i]))\n",
    "        img = imgbatch[i]\n",
    "        plt.subplot(1,5,i+1)\n",
    "        plt.imshow(img, cmap='binary')\n",
    "        plt.axis('off')\n",
    "        \n",
    "    break"
   ]
  },
  {
   "cell_type": "code",
   "execution_count": null,
   "metadata": {},
   "outputs": [],
   "source": []
  }
 ],
 "metadata": {
  "kernelspec": {
   "display_name": "Python 3 (ipykernel)",
   "language": "python",
   "name": "python3"
  },
  "language_info": {
   "codemirror_mode": {
    "name": "ipython",
    "version": 3
   },
   "file_extension": ".py",
   "mimetype": "text/x-python",
   "name": "python",
   "nbconvert_exporter": "python",
   "pygments_lexer": "ipython3",
   "version": "3.10.14"
  }
 },
 "nbformat": 4,
 "nbformat_minor": 4
}
