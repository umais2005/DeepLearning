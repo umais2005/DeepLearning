{
  "nbformat": 4,
  "nbformat_minor": 0,
  "metadata": {
    "colab": {
      "provenance": [],
      "authorship_tag": "ABX9TyO5EqG6CRdzGFQLCzEL3w6t",
      "include_colab_link": true
    },
    "kernelspec": {
      "name": "python3",
      "display_name": "Python 3"
    },
    "language_info": {
      "name": "python"
    }
  },
  "cells": [
    {
      "cell_type": "markdown",
      "metadata": {
        "id": "view-in-github",
        "colab_type": "text"
      },
      "source": [
        "<a href=\"https://colab.research.google.com/github/umais2005/DeepLearning/blob/main/Keras_Tuning.ipynb\" target=\"_parent\"><img src=\"https://colab.research.google.com/assets/colab-badge.svg\" alt=\"Open In Colab\"/></a>"
      ]
    },
    {
      "cell_type": "code",
      "source": [
        "import tensorflow as tf\n",
        "import numpy as np\n",
        "import matplotlib.pyplot as plt\n",
        "import pandas as pd\n",
        "!pip install keras-tuner\n",
        "import keras_tuner as kt"
      ],
      "metadata": {
        "colab": {
          "base_uri": "https://localhost:8080/"
        },
        "collapsed": true,
        "id": "bqSQvetZvCwJ",
        "outputId": "bf19c366-905c-404d-e63e-ebbc5a57cc0d"
      },
      "execution_count": null,
      "outputs": [
        {
          "output_type": "stream",
          "name": "stdout",
          "text": [
            "Collecting keras-tuner\n",
            "  Downloading keras_tuner-1.4.7-py3-none-any.whl (129 kB)\n",
            "\u001b[2K     \u001b[90m━━━━━━━━━━━━━━━━━━━━━━━━━━━━━━━━━━━━━━━━\u001b[0m \u001b[32m129.1/129.1 kB\u001b[0m \u001b[31m1.4 MB/s\u001b[0m eta \u001b[36m0:00:00\u001b[0m\n",
            "\u001b[?25hRequirement already satisfied: keras in /usr/local/lib/python3.10/dist-packages (from keras-tuner) (2.15.0)\n",
            "Requirement already satisfied: packaging in /usr/local/lib/python3.10/dist-packages (from keras-tuner) (24.0)\n",
            "Requirement already satisfied: requests in /usr/local/lib/python3.10/dist-packages (from keras-tuner) (2.31.0)\n",
            "Collecting kt-legacy (from keras-tuner)\n",
            "  Downloading kt_legacy-1.0.5-py3-none-any.whl (9.6 kB)\n",
            "Requirement already satisfied: charset-normalizer<4,>=2 in /usr/local/lib/python3.10/dist-packages (from requests->keras-tuner) (3.3.2)\n",
            "Requirement already satisfied: idna<4,>=2.5 in /usr/local/lib/python3.10/dist-packages (from requests->keras-tuner) (3.7)\n",
            "Requirement already satisfied: urllib3<3,>=1.21.1 in /usr/local/lib/python3.10/dist-packages (from requests->keras-tuner) (2.0.7)\n",
            "Requirement already satisfied: certifi>=2017.4.17 in /usr/local/lib/python3.10/dist-packages (from requests->keras-tuner) (2024.6.2)\n",
            "Installing collected packages: kt-legacy, keras-tuner\n",
            "Successfully installed keras-tuner-1.4.7 kt-legacy-1.0.5\n"
          ]
        }
      ]
    },
    {
      "cell_type": "code",
      "source": [
        "(X_train, y_train), (X_test, y_test) = tf.keras.datasets.mnist.load_data()\n"
      ],
      "metadata": {
        "colab": {
          "base_uri": "https://localhost:8080/"
        },
        "id": "vpOapLN8_t8V",
        "outputId": "6b986d24-bb1b-4f80-dbd2-4c2cfa935bca"
      },
      "execution_count": null,
      "outputs": [
        {
          "output_type": "stream",
          "name": "stdout",
          "text": [
            "Downloading data from https://storage.googleapis.com/tensorflow/tf-keras-datasets/mnist.npz\n",
            "11490434/11490434 [==============================] - 0s 0us/step\n"
          ]
        }
      ]
    },
    {
      "cell_type": "code",
      "source": [
        "def build_model(hp:kt.HyperParameters):\n",
        "  n_units = hp.Int(\"n_units\", min_value=50, max_value=300, default=30)\n",
        "  n_hidden = hp.Int(\"n_hidden\", min_value=1, max_value=8, default=2)\n",
        "  optimizer = hp.Choice(name='optimizer', values=['adam', 'sgd'])\n",
        "\n",
        "  model = tf.keras.Sequential()\n",
        "  model.add(tf.keras.layers.Input((28,28)))\n",
        "  model.add(tf.keras.layers.Flatten())\n",
        "  for _ in range(n_hidden):\n",
        "    model.add(tf.keras.layers.Dense(n_units, activation='relu'))\n",
        "  model.add(tf.keras.layers.Dense(10, activation='softmax'))\n",
        "\n",
        "  model.compile(optimizer=optimizer,loss=tf.keras.losses.SparseCategoricalCrossentropy(), metrics=['accuracy'],)\n",
        "\n",
        "  return model\n"
      ],
      "metadata": {
        "id": "v-cZiYaoy9pq"
      },
      "execution_count": null,
      "outputs": []
    },
    {
      "cell_type": "code",
      "source": [
        "class mnist_hyper_model(kt.HyperModel):\n",
        "  def build(self, hp):\n",
        "    return build_model(hp)\n",
        "\n",
        "  def fit(self, hp, model,*args,  **kwargs):\n",
        "    early_stopper = tf.keras.callbacks.EarlyStopping(patience=5,monitor='val_accuracy', restore_best_weights=True)\n",
        "    if 'callbacks' in kwargs:\n",
        "        kwargs['callbacks'].append(early_stopper)\n",
        "    else:\n",
        "        kwargs['callbacks'] = [early_stopper]\n",
        "    batch_size = hp.Int('batch_size', 16,128,sampling='log')\n",
        "    return model.fit(*args, batch_size=batch_size, **kwargs)\n",
        "\n"
      ],
      "metadata": {
        "id": "f8DtFJIN3GN9"
      },
      "execution_count": null,
      "outputs": []
    },
    {
      "cell_type": "code",
      "source": [
        "rnd_search = kt.RandomSearch(mnist_hyper_model(), 'val_accuracy',seed=42,overwrite=True,)"
      ],
      "metadata": {
        "id": "ecE-Z6ai6XBW"
      },
      "execution_count": null,
      "outputs": []
    },
    {
      "cell_type": "code",
      "source": [
        "rnd_search.search(X_train,y_train, epochs=50, validation_split=0.16)"
      ],
      "metadata": {
        "colab": {
          "base_uri": "https://localhost:8080/"
        },
        "id": "S5pcx_4I7Okw",
        "outputId": "27a8e621-8c4c-49ba-fae7-959d6fd6a8a6"
      },
      "execution_count": null,
      "outputs": [
        {
          "output_type": "stream",
          "name": "stdout",
          "text": [
            "Trial 10 Complete [00h 05m 35s]\n",
            "val_accuracy: 0.9751041531562805\n",
            "\n",
            "Best val_accuracy So Far: 0.9786458611488342\n",
            "Total elapsed time: 00h 33m 03s\n"
          ]
        }
      ]
    },
    {
      "cell_type": "code",
      "source": [
        "best_model = rnd_search.get_best_models()[0]"
      ],
      "metadata": {
        "id": "eBBhuCCnBKyF"
      },
      "execution_count": null,
      "outputs": []
    },
    {
      "cell_type": "code",
      "source": [
        "best_params = rnd_search.get_best_hyperparameters()[0]"
      ],
      "metadata": {
        "id": "RFpGEAABHwub"
      },
      "execution_count": null,
      "outputs": []
    },
    {
      "cell_type": "code",
      "source": [
        "best_params.values"
      ],
      "metadata": {
        "colab": {
          "base_uri": "https://localhost:8080/"
        },
        "id": "fK-5VYieH-_h",
        "outputId": "44f8199e-3dc1-483d-fcfc-f75487ee6d13"
      },
      "execution_count": null,
      "outputs": [
        {
          "output_type": "execute_result",
          "data": {
            "text/plain": [
              "{'n_units': 118, 'n_hidden': 8, 'optimizer': 'adam', 'batch_size': 50}"
            ]
          },
          "metadata": {},
          "execution_count": 9
        }
      ]
    },
    {
      "cell_type": "code",
      "source": [
        "best_model.evaluate(X_test,y_test)"
      ],
      "metadata": {
        "colab": {
          "base_uri": "https://localhost:8080/"
        },
        "id": "zTYWTD2LIYUD",
        "outputId": "1d5691dd-3674-4c4c-99fb-4ff1dd0b051f"
      },
      "execution_count": null,
      "outputs": [
        {
          "output_type": "stream",
          "name": "stdout",
          "text": [
            "313/313 [==============================] - 1s 3ms/step - loss: 0.1524 - accuracy: 0.9754\n"
          ]
        },
        {
          "output_type": "execute_result",
          "data": {
            "text/plain": [
              "[0.1524296998977661, 0.9753999710083008]"
            ]
          },
          "metadata": {},
          "execution_count": 10
        }
      ]
    }
  ]
}