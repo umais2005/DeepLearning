{
  "nbformat": 4,
  "nbformat_minor": 0,
  "metadata": {
    "colab": {
      "provenance": [],
      "toc_visible": true
    },
    "kernelspec": {
      "name": "python3",
      "display_name": "Python 3"
    },
    "language_info": {
      "name": "python"
    }
  },
  "cells": [
    {
      "cell_type": "code",
      "source": [
        "import tensorflow as tf\n",
        "import numpy as np\n",
        "import sklearn\n",
        "from sklearn.datasets import fetch_olivetti_faces\n",
        "import pandas as pd\n",
        "import matplotlib.pyplot as plt"
      ],
      "metadata": {
        "id": "Li_gN9G_5jev"
      },
      "execution_count": 40,
      "outputs": []
    },
    {
      "cell_type": "code",
      "source": [
        "X ,y = fetch_olivetti_faces(return_X_y=True)"
      ],
      "metadata": {
        "colab": {
          "base_uri": "https://localhost:8080/"
        },
        "id": "_xted-oI1lt5",
        "outputId": "dfeaddd8-49f8-4004-de6c-aec235303d0d"
      },
      "execution_count": 3,
      "outputs": [
        {
          "output_type": "stream",
          "name": "stdout",
          "text": [
            "downloading Olivetti faces from https://ndownloader.figshare.com/files/5976027 to /root/scikit_learn_data\n"
          ]
        }
      ]
    },
    {
      "cell_type": "code",
      "source": [
        "X.shape, y.shape"
      ],
      "metadata": {
        "colab": {
          "base_uri": "https://localhost:8080/"
        },
        "id": "vgjGkqjZ10eP",
        "outputId": "43d4bdf7-1581-4996-ebb3-2e13339741fb"
      },
      "execution_count": 4,
      "outputs": [
        {
          "output_type": "execute_result",
          "data": {
            "text/plain": [
              "((400, 4096), (400,))"
            ]
          },
          "metadata": {},
          "execution_count": 4
        }
      ]
    },
    {
      "cell_type": "code",
      "source": [
        "from sklearn.model_selection import train_test_split\n",
        "X_train, X_test, y_train, y_test = train_test_split(X, y, test_size=0.2,stratify=y, random_state=42)"
      ],
      "metadata": {
        "id": "ytq9T__u18aL"
      },
      "execution_count": 5,
      "outputs": []
    },
    {
      "cell_type": "code",
      "source": [
        "np.unique(y_train, return_counts=True)"
      ],
      "metadata": {
        "id": "zB8szHUH6o42",
        "outputId": "416fc0d7-4fb5-4727-cc59-6c5c8cc6d564",
        "colab": {
          "base_uri": "https://localhost:8080/"
        }
      },
      "execution_count": 6,
      "outputs": [
        {
          "output_type": "execute_result",
          "data": {
            "text/plain": [
              "(array([ 0,  1,  2,  3,  4,  5,  6,  7,  8,  9, 10, 11, 12, 13, 14, 15, 16,\n",
              "        17, 18, 19, 20, 21, 22, 23, 24, 25, 26, 27, 28, 29, 30, 31, 32, 33,\n",
              "        34, 35, 36, 37, 38, 39]),\n",
              " array([8, 8, 8, 8, 8, 8, 8, 8, 8, 8, 8, 8, 8, 8, 8, 8, 8, 8, 8, 8, 8, 8,\n",
              "        8, 8, 8, 8, 8, 8, 8, 8, 8, 8, 8, 8, 8, 8, 8, 8, 8, 8]))"
            ]
          },
          "metadata": {},
          "execution_count": 6
        }
      ]
    },
    {
      "cell_type": "code",
      "source": [
        "tf.keras.backend.clear_session()\n",
        "tf.random.set_seed(42)\n",
        "model = tf.keras.Sequential([\n",
        "    tf.keras.layers.Input(shape=(4096)),\n",
        "    tf.keras.layers.Dense(100, activation='relu'),\n",
        "    tf.keras.layers.Dense(60, activation='relu'),\n",
        "    tf.keras.layers.Dense(40, activation='softmax')])"
      ],
      "metadata": {
        "id": "V87fM1lu51yK"
      },
      "execution_count": 16,
      "outputs": []
    },
    {
      "cell_type": "code",
      "source": [
        "model.compile(loss=tf.keras.losses.SparseCategoricalCrossentropy(),\n",
        "              optimizer=tf.keras.optimizers.Adam(),\n",
        "              metrics=['accuracy'])"
      ],
      "metadata": {
        "id": "WPw30cnk7czF"
      },
      "execution_count": 17,
      "outputs": []
    },
    {
      "cell_type": "code",
      "source": [
        "weights, biases = model.get_layer('dense').get_weights()"
      ],
      "metadata": {
        "id": "IuqyHw9P9Jpv"
      },
      "execution_count": 18,
      "outputs": []
    },
    {
      "cell_type": "code",
      "source": [
        "weights.shape, biases.shape"
      ],
      "metadata": {
        "id": "l9h6hi8L-6tj",
        "outputId": "35ff0066-518a-4129-bd14-16fe7c820718",
        "colab": {
          "base_uri": "https://localhost:8080/"
        }
      },
      "execution_count": 19,
      "outputs": [
        {
          "output_type": "execute_result",
          "data": {
            "text/plain": [
              "((4096, 100), (100,))"
            ]
          },
          "metadata": {},
          "execution_count": 19
        }
      ]
    },
    {
      "cell_type": "code",
      "source": [
        "model.fit(X_train, y_train, epochs=30,validation_data=(X_test, y_test))"
      ],
      "metadata": {
        "id": "oBoyYtdT_qzu",
        "outputId": "71c4bd33-7f15-46b2-cea7-0b1022add843",
        "colab": {
          "base_uri": "https://localhost:8080/"
        }
      },
      "execution_count": 20,
      "outputs": [
        {
          "output_type": "stream",
          "name": "stdout",
          "text": [
            "Epoch 1/30\n",
            "10/10 [==============================] - 1s 33ms/step - loss: 3.9171 - accuracy: 0.0156 - val_loss: 3.7136 - val_accuracy: 0.0375\n",
            "Epoch 2/30\n",
            "10/10 [==============================] - 0s 11ms/step - loss: 3.7207 - accuracy: 0.0344 - val_loss: 3.6643 - val_accuracy: 0.0375\n",
            "Epoch 3/30\n",
            "10/10 [==============================] - 0s 13ms/step - loss: 3.6619 - accuracy: 0.0375 - val_loss: 3.6702 - val_accuracy: 0.0250\n",
            "Epoch 4/30\n",
            "10/10 [==============================] - 0s 11ms/step - loss: 3.6499 - accuracy: 0.0406 - val_loss: 3.6571 - val_accuracy: 0.0750\n",
            "Epoch 5/30\n",
            "10/10 [==============================] - 0s 12ms/step - loss: 3.6547 - accuracy: 0.0562 - val_loss: 3.6468 - val_accuracy: 0.0250\n",
            "Epoch 6/30\n",
            "10/10 [==============================] - 0s 13ms/step - loss: 3.6350 - accuracy: 0.0437 - val_loss: 3.6170 - val_accuracy: 0.0750\n",
            "Epoch 7/30\n",
            "10/10 [==============================] - 0s 13ms/step - loss: 3.6252 - accuracy: 0.0562 - val_loss: 3.6928 - val_accuracy: 0.0250\n",
            "Epoch 8/30\n",
            "10/10 [==============================] - 0s 14ms/step - loss: 3.6156 - accuracy: 0.0437 - val_loss: 3.5630 - val_accuracy: 0.0625\n",
            "Epoch 9/30\n",
            "10/10 [==============================] - 0s 17ms/step - loss: 3.5690 - accuracy: 0.0500 - val_loss: 3.5368 - val_accuracy: 0.0500\n",
            "Epoch 10/30\n",
            "10/10 [==============================] - 0s 16ms/step - loss: 3.5233 - accuracy: 0.0594 - val_loss: 3.4838 - val_accuracy: 0.0625\n",
            "Epoch 11/30\n",
            "10/10 [==============================] - 0s 16ms/step - loss: 3.4738 - accuracy: 0.0594 - val_loss: 3.4415 - val_accuracy: 0.0500\n",
            "Epoch 12/30\n",
            "10/10 [==============================] - 0s 15ms/step - loss: 3.4233 - accuracy: 0.0562 - val_loss: 3.3960 - val_accuracy: 0.0625\n",
            "Epoch 13/30\n",
            "10/10 [==============================] - 0s 19ms/step - loss: 3.4019 - accuracy: 0.0625 - val_loss: 3.3345 - val_accuracy: 0.0625\n",
            "Epoch 14/30\n",
            "10/10 [==============================] - 0s 15ms/step - loss: 3.3312 - accuracy: 0.0688 - val_loss: 3.3543 - val_accuracy: 0.0625\n",
            "Epoch 15/30\n",
            "10/10 [==============================] - 0s 16ms/step - loss: 3.2965 - accuracy: 0.0781 - val_loss: 3.2446 - val_accuracy: 0.0625\n",
            "Epoch 16/30\n",
            "10/10 [==============================] - 0s 15ms/step - loss: 3.2333 - accuracy: 0.0719 - val_loss: 3.2191 - val_accuracy: 0.1000\n",
            "Epoch 17/30\n",
            "10/10 [==============================] - 0s 15ms/step - loss: 3.2255 - accuracy: 0.0562 - val_loss: 3.1925 - val_accuracy: 0.0500\n",
            "Epoch 18/30\n",
            "10/10 [==============================] - 0s 15ms/step - loss: 3.1547 - accuracy: 0.0656 - val_loss: 3.1450 - val_accuracy: 0.0750\n",
            "Epoch 19/30\n",
            "10/10 [==============================] - 0s 17ms/step - loss: 3.1322 - accuracy: 0.0688 - val_loss: 3.1569 - val_accuracy: 0.0875\n",
            "Epoch 20/30\n",
            "10/10 [==============================] - 0s 17ms/step - loss: 3.0834 - accuracy: 0.0875 - val_loss: 3.1122 - val_accuracy: 0.0875\n",
            "Epoch 21/30\n",
            "10/10 [==============================] - 0s 16ms/step - loss: 3.0648 - accuracy: 0.1000 - val_loss: 3.0507 - val_accuracy: 0.1250\n",
            "Epoch 22/30\n",
            "10/10 [==============================] - 0s 17ms/step - loss: 3.0089 - accuracy: 0.1000 - val_loss: 3.0460 - val_accuracy: 0.1125\n",
            "Epoch 23/30\n",
            "10/10 [==============================] - 0s 17ms/step - loss: 3.0047 - accuracy: 0.0969 - val_loss: 3.0477 - val_accuracy: 0.1375\n",
            "Epoch 24/30\n",
            "10/10 [==============================] - 0s 17ms/step - loss: 2.9734 - accuracy: 0.0844 - val_loss: 2.9997 - val_accuracy: 0.1000\n",
            "Epoch 25/30\n",
            "10/10 [==============================] - 0s 16ms/step - loss: 2.9407 - accuracy: 0.0812 - val_loss: 2.9676 - val_accuracy: 0.1000\n",
            "Epoch 26/30\n",
            "10/10 [==============================] - 0s 18ms/step - loss: 2.9523 - accuracy: 0.0750 - val_loss: 2.9480 - val_accuracy: 0.1375\n",
            "Epoch 27/30\n",
            "10/10 [==============================] - 0s 16ms/step - loss: 2.9002 - accuracy: 0.0875 - val_loss: 2.9365 - val_accuracy: 0.1125\n",
            "Epoch 28/30\n",
            "10/10 [==============================] - 0s 17ms/step - loss: 2.8886 - accuracy: 0.1031 - val_loss: 2.9284 - val_accuracy: 0.1125\n",
            "Epoch 29/30\n",
            "10/10 [==============================] - 0s 16ms/step - loss: 2.8793 - accuracy: 0.1219 - val_loss: 2.9198 - val_accuracy: 0.1500\n",
            "Epoch 30/30\n",
            "10/10 [==============================] - 0s 12ms/step - loss: 2.8711 - accuracy: 0.1125 - val_loss: 2.9293 - val_accuracy: 0.1125\n"
          ]
        },
        {
          "output_type": "execute_result",
          "data": {
            "text/plain": [
              "<keras.src.callbacks.History at 0x7ba6c73fe050>"
            ]
          },
          "metadata": {},
          "execution_count": 20
        }
      ]
    },
    {
      "cell_type": "code",
      "source": [
        "model_history_df = pd.DataFrame(model.history.history)"
      ],
      "metadata": {
        "id": "kAkiDbCzAhKr"
      },
      "execution_count": 21,
      "outputs": []
    },
    {
      "cell_type": "code",
      "source": [
        "model_history_df.head()"
      ],
      "metadata": {
        "id": "QQoYCzSVEFeZ",
        "outputId": "9a97c2eb-081f-4a64-9169-e455f1462063",
        "colab": {
          "base_uri": "https://localhost:8080/",
          "height": 206
        }
      },
      "execution_count": 22,
      "outputs": [
        {
          "output_type": "execute_result",
          "data": {
            "text/plain": [
              "       loss  accuracy  val_loss  val_accuracy\n",
              "0  3.917145  0.015625  3.713628        0.0375\n",
              "1  3.720682  0.034375  3.664291        0.0375\n",
              "2  3.661884  0.037500  3.670154        0.0250\n",
              "3  3.649909  0.040625  3.657148        0.0750\n",
              "4  3.654736  0.056250  3.646832        0.0250"
            ],
            "text/html": [
              "\n",
              "  <div id=\"df-6ec8e95d-c6b4-46ae-84af-46db940a03cf\" class=\"colab-df-container\">\n",
              "    <div>\n",
              "<style scoped>\n",
              "    .dataframe tbody tr th:only-of-type {\n",
              "        vertical-align: middle;\n",
              "    }\n",
              "\n",
              "    .dataframe tbody tr th {\n",
              "        vertical-align: top;\n",
              "    }\n",
              "\n",
              "    .dataframe thead th {\n",
              "        text-align: right;\n",
              "    }\n",
              "</style>\n",
              "<table border=\"1\" class=\"dataframe\">\n",
              "  <thead>\n",
              "    <tr style=\"text-align: right;\">\n",
              "      <th></th>\n",
              "      <th>loss</th>\n",
              "      <th>accuracy</th>\n",
              "      <th>val_loss</th>\n",
              "      <th>val_accuracy</th>\n",
              "    </tr>\n",
              "  </thead>\n",
              "  <tbody>\n",
              "    <tr>\n",
              "      <th>0</th>\n",
              "      <td>3.917145</td>\n",
              "      <td>0.015625</td>\n",
              "      <td>3.713628</td>\n",
              "      <td>0.0375</td>\n",
              "    </tr>\n",
              "    <tr>\n",
              "      <th>1</th>\n",
              "      <td>3.720682</td>\n",
              "      <td>0.034375</td>\n",
              "      <td>3.664291</td>\n",
              "      <td>0.0375</td>\n",
              "    </tr>\n",
              "    <tr>\n",
              "      <th>2</th>\n",
              "      <td>3.661884</td>\n",
              "      <td>0.037500</td>\n",
              "      <td>3.670154</td>\n",
              "      <td>0.0250</td>\n",
              "    </tr>\n",
              "    <tr>\n",
              "      <th>3</th>\n",
              "      <td>3.649909</td>\n",
              "      <td>0.040625</td>\n",
              "      <td>3.657148</td>\n",
              "      <td>0.0750</td>\n",
              "    </tr>\n",
              "    <tr>\n",
              "      <th>4</th>\n",
              "      <td>3.654736</td>\n",
              "      <td>0.056250</td>\n",
              "      <td>3.646832</td>\n",
              "      <td>0.0250</td>\n",
              "    </tr>\n",
              "  </tbody>\n",
              "</table>\n",
              "</div>\n",
              "    <div class=\"colab-df-buttons\">\n",
              "\n",
              "  <div class=\"colab-df-container\">\n",
              "    <button class=\"colab-df-convert\" onclick=\"convertToInteractive('df-6ec8e95d-c6b4-46ae-84af-46db940a03cf')\"\n",
              "            title=\"Convert this dataframe to an interactive table.\"\n",
              "            style=\"display:none;\">\n",
              "\n",
              "  <svg xmlns=\"http://www.w3.org/2000/svg\" height=\"24px\" viewBox=\"0 -960 960 960\">\n",
              "    <path d=\"M120-120v-720h720v720H120Zm60-500h600v-160H180v160Zm220 220h160v-160H400v160Zm0 220h160v-160H400v160ZM180-400h160v-160H180v160Zm440 0h160v-160H620v160ZM180-180h160v-160H180v160Zm440 0h160v-160H620v160Z\"/>\n",
              "  </svg>\n",
              "    </button>\n",
              "\n",
              "  <style>\n",
              "    .colab-df-container {\n",
              "      display:flex;\n",
              "      gap: 12px;\n",
              "    }\n",
              "\n",
              "    .colab-df-convert {\n",
              "      background-color: #E8F0FE;\n",
              "      border: none;\n",
              "      border-radius: 50%;\n",
              "      cursor: pointer;\n",
              "      display: none;\n",
              "      fill: #1967D2;\n",
              "      height: 32px;\n",
              "      padding: 0 0 0 0;\n",
              "      width: 32px;\n",
              "    }\n",
              "\n",
              "    .colab-df-convert:hover {\n",
              "      background-color: #E2EBFA;\n",
              "      box-shadow: 0px 1px 2px rgba(60, 64, 67, 0.3), 0px 1px 3px 1px rgba(60, 64, 67, 0.15);\n",
              "      fill: #174EA6;\n",
              "    }\n",
              "\n",
              "    .colab-df-buttons div {\n",
              "      margin-bottom: 4px;\n",
              "    }\n",
              "\n",
              "    [theme=dark] .colab-df-convert {\n",
              "      background-color: #3B4455;\n",
              "      fill: #D2E3FC;\n",
              "    }\n",
              "\n",
              "    [theme=dark] .colab-df-convert:hover {\n",
              "      background-color: #434B5C;\n",
              "      box-shadow: 0px 1px 3px 1px rgba(0, 0, 0, 0.15);\n",
              "      filter: drop-shadow(0px 1px 2px rgba(0, 0, 0, 0.3));\n",
              "      fill: #FFFFFF;\n",
              "    }\n",
              "  </style>\n",
              "\n",
              "    <script>\n",
              "      const buttonEl =\n",
              "        document.querySelector('#df-6ec8e95d-c6b4-46ae-84af-46db940a03cf button.colab-df-convert');\n",
              "      buttonEl.style.display =\n",
              "        google.colab.kernel.accessAllowed ? 'block' : 'none';\n",
              "\n",
              "      async function convertToInteractive(key) {\n",
              "        const element = document.querySelector('#df-6ec8e95d-c6b4-46ae-84af-46db940a03cf');\n",
              "        const dataTable =\n",
              "          await google.colab.kernel.invokeFunction('convertToInteractive',\n",
              "                                                    [key], {});\n",
              "        if (!dataTable) return;\n",
              "\n",
              "        const docLinkHtml = 'Like what you see? Visit the ' +\n",
              "          '<a target=\"_blank\" href=https://colab.research.google.com/notebooks/data_table.ipynb>data table notebook</a>'\n",
              "          + ' to learn more about interactive tables.';\n",
              "        element.innerHTML = '';\n",
              "        dataTable['output_type'] = 'display_data';\n",
              "        await google.colab.output.renderOutput(dataTable, element);\n",
              "        const docLink = document.createElement('div');\n",
              "        docLink.innerHTML = docLinkHtml;\n",
              "        element.appendChild(docLink);\n",
              "      }\n",
              "    </script>\n",
              "  </div>\n",
              "\n",
              "\n",
              "<div id=\"df-435c5457-98fa-4070-b04d-478275d71232\">\n",
              "  <button class=\"colab-df-quickchart\" onclick=\"quickchart('df-435c5457-98fa-4070-b04d-478275d71232')\"\n",
              "            title=\"Suggest charts\"\n",
              "            style=\"display:none;\">\n",
              "\n",
              "<svg xmlns=\"http://www.w3.org/2000/svg\" height=\"24px\"viewBox=\"0 0 24 24\"\n",
              "     width=\"24px\">\n",
              "    <g>\n",
              "        <path d=\"M19 3H5c-1.1 0-2 .9-2 2v14c0 1.1.9 2 2 2h14c1.1 0 2-.9 2-2V5c0-1.1-.9-2-2-2zM9 17H7v-7h2v7zm4 0h-2V7h2v10zm4 0h-2v-4h2v4z\"/>\n",
              "    </g>\n",
              "</svg>\n",
              "  </button>\n",
              "\n",
              "<style>\n",
              "  .colab-df-quickchart {\n",
              "      --bg-color: #E8F0FE;\n",
              "      --fill-color: #1967D2;\n",
              "      --hover-bg-color: #E2EBFA;\n",
              "      --hover-fill-color: #174EA6;\n",
              "      --disabled-fill-color: #AAA;\n",
              "      --disabled-bg-color: #DDD;\n",
              "  }\n",
              "\n",
              "  [theme=dark] .colab-df-quickchart {\n",
              "      --bg-color: #3B4455;\n",
              "      --fill-color: #D2E3FC;\n",
              "      --hover-bg-color: #434B5C;\n",
              "      --hover-fill-color: #FFFFFF;\n",
              "      --disabled-bg-color: #3B4455;\n",
              "      --disabled-fill-color: #666;\n",
              "  }\n",
              "\n",
              "  .colab-df-quickchart {\n",
              "    background-color: var(--bg-color);\n",
              "    border: none;\n",
              "    border-radius: 50%;\n",
              "    cursor: pointer;\n",
              "    display: none;\n",
              "    fill: var(--fill-color);\n",
              "    height: 32px;\n",
              "    padding: 0;\n",
              "    width: 32px;\n",
              "  }\n",
              "\n",
              "  .colab-df-quickchart:hover {\n",
              "    background-color: var(--hover-bg-color);\n",
              "    box-shadow: 0 1px 2px rgba(60, 64, 67, 0.3), 0 1px 3px 1px rgba(60, 64, 67, 0.15);\n",
              "    fill: var(--button-hover-fill-color);\n",
              "  }\n",
              "\n",
              "  .colab-df-quickchart-complete:disabled,\n",
              "  .colab-df-quickchart-complete:disabled:hover {\n",
              "    background-color: var(--disabled-bg-color);\n",
              "    fill: var(--disabled-fill-color);\n",
              "    box-shadow: none;\n",
              "  }\n",
              "\n",
              "  .colab-df-spinner {\n",
              "    border: 2px solid var(--fill-color);\n",
              "    border-color: transparent;\n",
              "    border-bottom-color: var(--fill-color);\n",
              "    animation:\n",
              "      spin 1s steps(1) infinite;\n",
              "  }\n",
              "\n",
              "  @keyframes spin {\n",
              "    0% {\n",
              "      border-color: transparent;\n",
              "      border-bottom-color: var(--fill-color);\n",
              "      border-left-color: var(--fill-color);\n",
              "    }\n",
              "    20% {\n",
              "      border-color: transparent;\n",
              "      border-left-color: var(--fill-color);\n",
              "      border-top-color: var(--fill-color);\n",
              "    }\n",
              "    30% {\n",
              "      border-color: transparent;\n",
              "      border-left-color: var(--fill-color);\n",
              "      border-top-color: var(--fill-color);\n",
              "      border-right-color: var(--fill-color);\n",
              "    }\n",
              "    40% {\n",
              "      border-color: transparent;\n",
              "      border-right-color: var(--fill-color);\n",
              "      border-top-color: var(--fill-color);\n",
              "    }\n",
              "    60% {\n",
              "      border-color: transparent;\n",
              "      border-right-color: var(--fill-color);\n",
              "    }\n",
              "    80% {\n",
              "      border-color: transparent;\n",
              "      border-right-color: var(--fill-color);\n",
              "      border-bottom-color: var(--fill-color);\n",
              "    }\n",
              "    90% {\n",
              "      border-color: transparent;\n",
              "      border-bottom-color: var(--fill-color);\n",
              "    }\n",
              "  }\n",
              "</style>\n",
              "\n",
              "  <script>\n",
              "    async function quickchart(key) {\n",
              "      const quickchartButtonEl =\n",
              "        document.querySelector('#' + key + ' button');\n",
              "      quickchartButtonEl.disabled = true;  // To prevent multiple clicks.\n",
              "      quickchartButtonEl.classList.add('colab-df-spinner');\n",
              "      try {\n",
              "        const charts = await google.colab.kernel.invokeFunction(\n",
              "            'suggestCharts', [key], {});\n",
              "      } catch (error) {\n",
              "        console.error('Error during call to suggestCharts:', error);\n",
              "      }\n",
              "      quickchartButtonEl.classList.remove('colab-df-spinner');\n",
              "      quickchartButtonEl.classList.add('colab-df-quickchart-complete');\n",
              "    }\n",
              "    (() => {\n",
              "      let quickchartButtonEl =\n",
              "        document.querySelector('#df-435c5457-98fa-4070-b04d-478275d71232 button');\n",
              "      quickchartButtonEl.style.display =\n",
              "        google.colab.kernel.accessAllowed ? 'block' : 'none';\n",
              "    })();\n",
              "  </script>\n",
              "</div>\n",
              "\n",
              "    </div>\n",
              "  </div>\n"
            ],
            "application/vnd.google.colaboratory.intrinsic+json": {
              "type": "dataframe",
              "variable_name": "model_history_df",
              "summary": "{\n  \"name\": \"model_history_df\",\n  \"rows\": 30,\n  \"fields\": [\n    {\n      \"column\": \"loss\",\n      \"properties\": {\n        \"dtype\": \"number\",\n        \"std\": 0.31143157920908604,\n        \"min\": 2.871083974838257,\n        \"max\": 3.9171454906463623,\n        \"num_unique_values\": 30,\n        \"samples\": [\n          2.8885786533355713,\n          3.233269453048706,\n          2.9733946323394775\n        ],\n        \"semantic_type\": \"\",\n        \"description\": \"\"\n      }\n    },\n    {\n      \"column\": \"accuracy\",\n      \"properties\": {\n        \"dtype\": \"number\",\n        \"std\": 0.024996407823656676,\n        \"min\": 0.015625,\n        \"max\": 0.12187500298023224,\n        \"num_unique_values\": 22,\n        \"samples\": [\n          0.015625,\n          0.08749999850988388,\n          0.0625\n        ],\n        \"semantic_type\": \"\",\n        \"description\": \"\"\n      }\n    },\n    {\n      \"column\": \"val_loss\",\n      \"properties\": {\n        \"dtype\": \"number\",\n        \"std\": 0.2815570815668051,\n        \"min\": 2.9197967052459717,\n        \"max\": 3.7136282920837402,\n        \"num_unique_values\": 30,\n        \"samples\": [\n          2.9283554553985596,\n          3.2190585136413574,\n          2.999718189239502\n        ],\n        \"semantic_type\": \"\",\n        \"description\": \"\"\n      }\n    },\n    {\n      \"column\": \"val_accuracy\",\n      \"properties\": {\n        \"dtype\": \"number\",\n        \"std\": 0.035406100669528706,\n        \"min\": 0.02500000037252903,\n        \"max\": 0.15000000596046448,\n        \"num_unique_values\": 11,\n        \"samples\": [\n          0.10000000149011612,\n          0.03750000149011612,\n          0.13750000298023224\n        ],\n        \"semantic_type\": \"\",\n        \"description\": \"\"\n      }\n    }\n  ]\n}"
            }
          },
          "metadata": {},
          "execution_count": 22
        }
      ]
    },
    {
      "cell_type": "code",
      "source": [
        "plt.figure(figsize=(10,3))\n",
        "model_history_df[['accuracy','val_accuracy']].plot()\n",
        "model_history_df[['loss','val_loss']].plot()"
      ],
      "metadata": {
        "id": "EEEyvODICPJd",
        "outputId": "992fb441-6313-46bf-ac9e-edc21ec8783f",
        "colab": {
          "base_uri": "https://localhost:8080/",
          "height": 878
        }
      },
      "execution_count": 23,
      "outputs": [
        {
          "output_type": "execute_result",
          "data": {
            "text/plain": [
              "<Axes: >"
            ]
          },
          "metadata": {},
          "execution_count": 23
        },
        {
          "output_type": "display_data",
          "data": {
            "text/plain": [
              "<Figure size 1000x300 with 0 Axes>"
            ]
          },
          "metadata": {}
        },
        {
          "output_type": "display_data",
          "data": {
            "text/plain": [
              "<Figure size 640x480 with 1 Axes>"
            ],
            "image/png": "[encoded data removed]"
          },
          "metadata": {}
        },
        {
          "output_type": "display_data",
          "data": {
            "text/plain": [
              "<Figure size 640x480 with 1 Axes>"
            ],
            "image/png": "[encoded data removed]"
          },
          "metadata": {}
        }
      ]
    },
    {
      "cell_type": "markdown",
      "source": [
        "We can see the model is overfitting."
      ],
      "metadata": {
        "id": "vnAyK2CKCsIH"
      }
    },
    {
      "cell_type": "code",
      "source": [
        "X, y = sklearn.datasets.fetch_california_housing(as_frame=False,  return_X_y=True)"
      ],
      "metadata": {
        "id": "0C_MQ4bREq4-"
      },
      "execution_count": 58,
      "outputs": []
    },
    {
      "cell_type": "code",
      "source": [
        "from sklearn.model_selection import train_test_split\n",
        "X_train, X_test, y_train, y_test = train_test_split(X, y, test_size=.2, random_state=42)"
      ],
      "metadata": {
        "id": "UYp1jfWi0fFK"
      },
      "execution_count": 61,
      "outputs": []
    },
    {
      "cell_type": "code",
      "source": [
        "X_train.shape, y_train.shape, X_test.shape, y_test.shape"
      ],
      "metadata": {
        "colab": {
          "base_uri": "https://localhost:8080/"
        },
        "id": "4Ghmo5Q5w9Um",
        "outputId": "20e19223-dec8-4bbe-f8ca-0fba9be08080"
      },
      "execution_count": 62,
      "outputs": [
        {
          "output_type": "execute_result",
          "data": {
            "text/plain": [
              "((16512, 8), (16512,), (4128, 8), (4128,))"
            ]
          },
          "metadata": {},
          "execution_count": 62
        }
      ]
    },
    {
      "cell_type": "code",
      "source": [
        "X_valid, X_test, y_valid, y_test = train_test_split(X_test, y_test, test_size=0.3, random_state=42)"
      ],
      "metadata": {
        "id": "vUmbGvIiyDZ8"
      },
      "execution_count": 63,
      "outputs": []
    },
    {
      "cell_type": "markdown",
      "source": [
        "Now lets make the model. Regression:\n",
        "We normalize the inputs,\n",
        "dont use acitvation in output layer\n",
        "use relu. Lets use the functional api to make multi input and output networks"
      ],
      "metadata": {
        "id": "J6lCScY2xDBd"
      }
    },
    {
      "cell_type": "code",
      "source": [
        "X_train.shape[1:]"
      ],
      "metadata": {
        "colab": {
          "base_uri": "https://localhost:8080/"
        },
        "id": "ukmRBOZlR8mk",
        "outputId": "61a79bee-177d-4325-bf93-6101985fbdbb"
      },
      "execution_count": 67,
      "outputs": [
        {
          "output_type": "execute_result",
          "data": {
            "text/plain": [
              "(8,)"
            ]
          },
          "metadata": {},
          "execution_count": 67
        }
      ]
    },
    {
      "cell_type": "code",
      "source": [
        "# Wide and Deep Neural Network\n",
        "tf.keras.backend.clear_session()\n",
        "tf.random.set_seed(42)\n",
        "input_ = tf.keras.layers.Input(shape=(8,))\n",
        "normalize_layer = tf.keras.layers.Normalization()\n",
        "normalized = tf.keras.layers.Normalization()(input_)\n",
        "hidden1 = tf.keras.layers.Dense(40, activation='relu')(normalized)\n",
        "hidden2 = tf.keras.layers.Dense(30, activation='relu')(hidden1)\n",
        "concat = tf.keras.layers.Concatenate()([hidden2, normalized])\n",
        "output = tf.keras.layers.Dense(1)(concat)"
      ],
      "metadata": {
        "id": "rxTDt82sKOXQ"
      },
      "execution_count": 121,
      "outputs": []
    },
    {
      "cell_type": "code",
      "source": [
        "model = tf.keras.Model(inputs=[input_], outputs=[output])"
      ],
      "metadata": {
        "id": "8654pN-YRhAK"
      },
      "execution_count": 122,
      "outputs": []
    },
    {
      "cell_type": "code",
      "source": [
        "model.summary()"
      ],
      "metadata": {
        "colab": {
          "base_uri": "https://localhost:8080/"
        },
        "id": "DfokxKqEShnT",
        "outputId": "defb4bb3-ec75-4503-fa7e-80d6cfc3d533"
      },
      "execution_count": 123,
      "outputs": [
        {
          "output_type": "stream",
          "name": "stdout",
          "text": [
            "Model: \"model\"\n",
            "__________________________________________________________________________________________________\n",
            " Layer (type)                Output Shape                 Param #   Connected to                  \n",
            "==================================================================================================\n",
            " input_1 (InputLayer)        [(None, 8)]                  0         []                            \n",
            "                                                                                                  \n",
            " normalization_1 (Normaliza  (None, 8)                    17        ['input_1[0][0]']             \n",
            " tion)                                                                                            \n",
            "                                                                                                  \n",
            " dense (Dense)               (None, 40)                   360       ['normalization_1[0][0]']     \n",
            "                                                                                                  \n",
            " dense_1 (Dense)             (None, 30)                   1230      ['dense[0][0]']               \n",
            "                                                                                                  \n",
            " concatenate (Concatenate)   (None, 38)                   0         ['dense_1[0][0]',             \n",
            "                                                                     'normalization_1[0][0]']     \n",
            "                                                                                                  \n",
            " dense_2 (Dense)             (None, 1)                    39        ['concatenate[0][0]']         \n",
            "                                                                                                  \n",
            "==================================================================================================\n",
            "Total params: 1646 (6.43 KB)\n",
            "Trainable params: 1629 (6.36 KB)\n",
            "Non-trainable params: 17 (72.00 Byte)\n",
            "__________________________________________________________________________________________________\n"
          ]
        }
      ]
    },
    {
      "cell_type": "code",
      "source": [
        "normalize_layer.adapt(X_train)\n",
        "model.compile(optimizer=tf.keras.optimizers.Adam(learning_rate=.001), loss='mse',\n",
        "              metrics='RootMeanSquaredError')\n",
        "model.fit(X_train, y_train, batch_size=64, epochs=30, validation_data=(X_valid, y_valid), )"
      ],
      "metadata": {
        "colab": {
          "base_uri": "https://localhost:8080/"
        },
        "id": "H16KhMeISi_x",
        "outputId": "159290f5-b294-411d-ce2b-79650fac418c"
      },
      "execution_count": 125,
      "outputs": [
        {
          "output_type": "stream",
          "name": "stdout",
          "text": [
            "Epoch 1/30\n",
            "258/258 [==============================] - 2s 4ms/step - loss: 26.1149 - root_mean_squared_error: 5.1103 - val_loss: 0.8005 - val_root_mean_squared_error: 0.8947\n",
            "Epoch 2/30\n",
            "258/258 [==============================] - 1s 2ms/step - loss: 0.8268 - root_mean_squared_error: 0.9093 - val_loss: 0.7485 - val_root_mean_squared_error: 0.8652\n",
            "Epoch 3/30\n",
            "258/258 [==============================] - 1s 2ms/step - loss: 0.7969 - root_mean_squared_error: 0.8927 - val_loss: 0.7487 - val_root_mean_squared_error: 0.8653\n",
            "Epoch 4/30\n",
            "258/258 [==============================] - 1s 2ms/step - loss: 1.3913 - root_mean_squared_error: 1.1795 - val_loss: 0.7163 - val_root_mean_squared_error: 0.8464\n",
            "Epoch 5/30\n",
            "258/258 [==============================] - 1s 2ms/step - loss: 1.7228 - root_mean_squared_error: 1.3125 - val_loss: 1.0538 - val_root_mean_squared_error: 1.0265\n",
            "Epoch 6/30\n",
            "258/258 [==============================] - 1s 2ms/step - loss: 5.3781 - root_mean_squared_error: 2.3191 - val_loss: 15.5773 - val_root_mean_squared_error: 3.9468\n",
            "Epoch 7/30\n",
            "258/258 [==============================] - 1s 2ms/step - loss: 7.5089 - root_mean_squared_error: 2.7402 - val_loss: 0.7958 - val_root_mean_squared_error: 0.8921\n",
            "Epoch 8/30\n",
            "258/258 [==============================] - 1s 2ms/step - loss: 4.8306 - root_mean_squared_error: 2.1979 - val_loss: 0.7962 - val_root_mean_squared_error: 0.8923\n",
            "Epoch 9/30\n",
            "258/258 [==============================] - 1s 3ms/step - loss: 25.4987 - root_mean_squared_error: 5.0496 - val_loss: 1.5861 - val_root_mean_squared_error: 1.2594\n",
            "Epoch 10/30\n",
            "258/258 [==============================] - 1s 3ms/step - loss: 6.9547 - root_mean_squared_error: 2.6372 - val_loss: 0.8022 - val_root_mean_squared_error: 0.8957\n",
            "Epoch 11/30\n",
            "258/258 [==============================] - 1s 3ms/step - loss: 2.3081 - root_mean_squared_error: 1.5192 - val_loss: 1.8214 - val_root_mean_squared_error: 1.3496\n",
            "Epoch 12/30\n",
            "258/258 [==============================] - 1s 3ms/step - loss: 1.5052 - root_mean_squared_error: 1.2269 - val_loss: 1.1694 - val_root_mean_squared_error: 1.0814\n",
            "Epoch 13/30\n",
            "258/258 [==============================] - 1s 4ms/step - loss: 1.2359 - root_mean_squared_error: 1.1117 - val_loss: 3.7896 - val_root_mean_squared_error: 1.9467\n",
            "Epoch 14/30\n",
            "258/258 [==============================] - 1s 4ms/step - loss: 1.5732 - root_mean_squared_error: 1.2543 - val_loss: 0.7007 - val_root_mean_squared_error: 0.8371\n",
            "Epoch 15/30\n",
            "258/258 [==============================] - 1s 2ms/step - loss: 9.2715 - root_mean_squared_error: 3.0449 - val_loss: 0.9125 - val_root_mean_squared_error: 0.9552\n",
            "Epoch 16/30\n",
            "258/258 [==============================] - 1s 2ms/step - loss: 2.6719 - root_mean_squared_error: 1.6346 - val_loss: 0.6910 - val_root_mean_squared_error: 0.8313\n",
            "Epoch 17/30\n",
            "258/258 [==============================] - 1s 2ms/step - loss: 27.6293 - root_mean_squared_error: 5.2564 - val_loss: 33.0509 - val_root_mean_squared_error: 5.7490\n",
            "Epoch 18/30\n",
            "258/258 [==============================] - 1s 2ms/step - loss: 5.0406 - root_mean_squared_error: 2.2451 - val_loss: 0.7318 - val_root_mean_squared_error: 0.8555\n",
            "Epoch 19/30\n",
            "258/258 [==============================] - 1s 4ms/step - loss: 0.8840 - root_mean_squared_error: 0.9402 - val_loss: 0.7104 - val_root_mean_squared_error: 0.8429\n",
            "Epoch 20/30\n",
            "258/258 [==============================] - 1s 4ms/step - loss: 1.1480 - root_mean_squared_error: 1.0715 - val_loss: 0.7080 - val_root_mean_squared_error: 0.8414\n",
            "Epoch 21/30\n",
            "258/258 [==============================] - 1s 4ms/step - loss: 0.9222 - root_mean_squared_error: 0.9603 - val_loss: 0.7288 - val_root_mean_squared_error: 0.8537\n",
            "Epoch 22/30\n",
            "258/258 [==============================] - 1s 5ms/step - loss: 46.9326 - root_mean_squared_error: 6.8507 - val_loss: 1.0080 - val_root_mean_squared_error: 1.0040\n",
            "Epoch 23/30\n",
            "258/258 [==============================] - 1s 4ms/step - loss: 2.0373 - root_mean_squared_error: 1.4273 - val_loss: 8.8463 - val_root_mean_squared_error: 2.9743\n",
            "Epoch 24/30\n",
            "258/258 [==============================] - 1s 5ms/step - loss: 2.1012 - root_mean_squared_error: 1.4495 - val_loss: 0.6986 - val_root_mean_squared_error: 0.8358\n",
            "Epoch 25/30\n",
            "258/258 [==============================] - 2s 9ms/step - loss: 5.9671 - root_mean_squared_error: 2.4428 - val_loss: 11.7173 - val_root_mean_squared_error: 3.4231\n",
            "Epoch 26/30\n",
            "258/258 [==============================] - 3s 10ms/step - loss: 5.4273 - root_mean_squared_error: 2.3297 - val_loss: 1.0702 - val_root_mean_squared_error: 1.0345\n",
            "Epoch 27/30\n",
            "258/258 [==============================] - 2s 10ms/step - loss: 3.7789 - root_mean_squared_error: 1.9439 - val_loss: 2.0813 - val_root_mean_squared_error: 1.4427\n",
            "Epoch 28/30\n",
            "258/258 [==============================] - 1s 6ms/step - loss: 20.7755 - root_mean_squared_error: 4.5580 - val_loss: 0.8667 - val_root_mean_squared_error: 0.9310\n",
            "Epoch 29/30\n",
            "258/258 [==============================] - 2s 7ms/step - loss: 31.1856 - root_mean_squared_error: 5.5844 - val_loss: 947.7508 - val_root_mean_squared_error: 30.7856\n",
            "Epoch 30/30\n",
            "258/258 [==============================] - 1s 6ms/step - loss: 25.6146 - root_mean_squared_error: 5.0611 - val_loss: 0.7873 - val_root_mean_squared_error: 0.8873\n"
          ]
        },
        {
          "output_type": "execute_result",
          "data": {
            "text/plain": [
              "<keras.src.callbacks.History at 0x7ba6ac9627d0>"
            ]
          },
          "metadata": {},
          "execution_count": 125
        }
      ]
    },
    {
      "cell_type": "code",
      "source": [
        "def plot_metrics(model):\n",
        "  model_hist = pd.DataFrame(model.history.history)\n",
        "  plt.figure(figsize=(10,3))\n",
        "  ax = plt.subplot(121)\n",
        "  model_hist[['loss', 'val_loss']].plot(ax=ax)\n",
        "  ax = plt.subplot(122)\n",
        "  model_hist[['root_mean_squared_error', 'val_root_mean_squared_error']].plot(ax=ax)"
      ],
      "metadata": {
        "id": "y0NHulrRUfGh"
      },
      "execution_count": 126,
      "outputs": []
    },
    {
      "cell_type": "code",
      "source": [
        "plot_metrics(model)"
      ],
      "metadata": {
        "colab": {
          "base_uri": "https://localhost:8080/",
          "height": 291
        },
        "id": "QHRezLJRd7-O",
        "outputId": "6b597ad7-66ef-4781-d589-b83fa1b7cb8e"
      },
      "execution_count": 127,
      "outputs": [
        {
          "output_type": "display_data",
          "data": {
            "text/plain": [
              "<Figure size 1000x300 with 2 Axes>"
            ],
            "image/png": "[encoded data removed]"
          },
          "metadata": {}
        }
      ]
    },
    {
      "cell_type": "markdown",
      "source": [
        "This model is good i guess. LEts evaluate"
      ],
      "metadata": {
        "id": "grPwyfkQUhE5"
      }
    },
    {
      "cell_type": "code",
      "source": [
        "model.evaluate(X_test, y_test)"
      ],
      "metadata": {
        "colab": {
          "base_uri": "https://localhost:8080/"
        },
        "id": "2Q5OICp7VgfE",
        "outputId": "5f9577a5-91f4-4301-d809-80e2e10f6956"
      },
      "execution_count": 128,
      "outputs": [
        {
          "output_type": "stream",
          "name": "stdout",
          "text": [
            "39/39 [==============================] - 0s 2ms/step - loss: 0.6891 - root_mean_squared_error: 0.8301\n"
          ]
        },
        {
          "output_type": "execute_result",
          "data": {
            "text/plain": [
              "[0.689113438129425, 0.83012855052948]"
            ]
          },
          "metadata": {},
          "execution_count": 128
        }
      ]
    },
    {
      "cell_type": "markdown",
      "source": [
        "This time with batch size 64"
      ],
      "metadata": {
        "id": "4XuA1_oJa83-"
      }
    },
    {
      "cell_type": "code",
      "source": [
        "model.history.history"
      ],
      "metadata": {
        "colab": {
          "base_uri": "https://localhost:8080/"
        },
        "id": "2C_1fF47Z29y",
        "outputId": "1db1576e-d6ab-419c-c43a-0f0a9b17c21c"
      },
      "execution_count": 132,
      "outputs": [
        {
          "output_type": "execute_result",
          "data": {
            "text/plain": [
              "{}"
            ]
          },
          "metadata": {},
          "execution_count": 132
        }
      ]
    },
    {
      "cell_type": "markdown",
      "source": [
        "Normal sequential network"
      ],
      "metadata": {
        "id": "7ZroXI-LbAFs"
      }
    },
    {
      "cell_type": "code",
      "source": [
        "tf.keras.backend.clear_session()\n",
        "norm_layer = tf.keras.layers.Normalization(input_shape=(8,))\n",
        "model = tf.keras.Sequential([\n",
        "    norm_layer,\n",
        "    tf.keras.layers.Dense(30, activation='relu'),\n",
        "    tf.keras.layers.Dense(30, activation='relu'),\n",
        "    tf.keras.layers.Dense(1)\n",
        "])"
      ],
      "metadata": {
        "id": "wEGtJeH_bTs6"
      },
      "execution_count": 134,
      "outputs": []
    },
    {
      "cell_type": "code",
      "source": [
        "model.summary()"
      ],
      "metadata": {
        "colab": {
          "base_uri": "https://localhost:8080/"
        },
        "id": "JZcSybnQgoft",
        "outputId": "d6f8ba13-5e90-4b8a-85de-808b0bd82362"
      },
      "execution_count": 136,
      "outputs": [
        {
          "output_type": "stream",
          "name": "stdout",
          "text": [
            "Model: \"sequential\"\n",
            "_________________________________________________________________\n",
            " Layer (type)                Output Shape              Param #   \n",
            "=================================================================\n",
            " normalization (Normalizati  (None, 8)                 17        \n",
            " on)                                                             \n",
            "                                                                 \n",
            " dense (Dense)               (None, 30)                270       \n",
            "                                                                 \n",
            " dense_1 (Dense)             (None, 30)                930       \n",
            "                                                                 \n",
            " dense_2 (Dense)             (None, 1)                 31        \n",
            "                                                                 \n",
            "=================================================================\n",
            "Total params: 1248 (4.88 KB)\n",
            "Trainable params: 1231 (4.81 KB)\n",
            "Non-trainable params: 17 (72.00 Byte)\n",
            "_________________________________________________________________\n"
          ]
        }
      ]
    },
    {
      "cell_type": "code",
      "source": [
        "norm_layer.adapt(X_train)\n",
        "model.compile(optimizer=tf.keras.optimizers.Adam(learning_rate=0.001),loss='mse', metrics=['RootMeanSquaredError'])\n",
        "model.fit(X_train, y_train, epochs=30, batch_size=64,validation_data=(X_valid, y_valid) )"
      ],
      "metadata": {
        "colab": {
          "base_uri": "https://localhost:8080/"
        },
        "id": "4ohr73A6gwcr",
        "outputId": "09a7c3c4-150a-4988-c48e-82ff31cc1823"
      },
      "execution_count": 142,
      "outputs": [
        {
          "output_type": "stream",
          "name": "stdout",
          "text": [
            "Epoch 1/30\n",
            "258/258 [==============================] - 2s 5ms/step - loss: 0.2469 - root_mean_squared_error: 0.4969 - val_loss: 0.2658 - val_root_mean_squared_error: 0.5155\n",
            "Epoch 2/30\n",
            "258/258 [==============================] - 2s 8ms/step - loss: 0.2485 - root_mean_squared_error: 0.4985 - val_loss: 0.2650 - val_root_mean_squared_error: 0.5147\n",
            "Epoch 3/30\n",
            "258/258 [==============================] - 2s 6ms/step - loss: 0.2501 - root_mean_squared_error: 0.5001 - val_loss: 0.2669 - val_root_mean_squared_error: 0.5166\n",
            "Epoch 4/30\n",
            "258/258 [==============================] - 2s 9ms/step - loss: 0.2461 - root_mean_squared_error: 0.4960 - val_loss: 0.2739 - val_root_mean_squared_error: 0.5234\n",
            "Epoch 5/30\n",
            "258/258 [==============================] - 2s 9ms/step - loss: 0.2451 - root_mean_squared_error: 0.4951 - val_loss: 0.2695 - val_root_mean_squared_error: 0.5191\n",
            "Epoch 6/30\n",
            "258/258 [==============================] - 2s 6ms/step - loss: 0.2462 - root_mean_squared_error: 0.4962 - val_loss: 0.2693 - val_root_mean_squared_error: 0.5189\n",
            "Epoch 7/30\n",
            "258/258 [==============================] - 1s 6ms/step - loss: 0.2462 - root_mean_squared_error: 0.4961 - val_loss: 0.2638 - val_root_mean_squared_error: 0.5136\n",
            "Epoch 8/30\n",
            "258/258 [==============================] - 1s 4ms/step - loss: 0.2449 - root_mean_squared_error: 0.4949 - val_loss: 0.2690 - val_root_mean_squared_error: 0.5186\n",
            "Epoch 9/30\n",
            "258/258 [==============================] - 1s 2ms/step - loss: 0.2461 - root_mean_squared_error: 0.4961 - val_loss: 0.2650 - val_root_mean_squared_error: 0.5148\n",
            "Epoch 10/30\n",
            "258/258 [==============================] - 1s 2ms/step - loss: 0.2488 - root_mean_squared_error: 0.4988 - val_loss: 0.2735 - val_root_mean_squared_error: 0.5229\n",
            "Epoch 11/30\n",
            "258/258 [==============================] - 1s 2ms/step - loss: 0.2469 - root_mean_squared_error: 0.4969 - val_loss: 0.2690 - val_root_mean_squared_error: 0.5187\n",
            "Epoch 12/30\n",
            "258/258 [==============================] - 1s 2ms/step - loss: 0.2448 - root_mean_squared_error: 0.4947 - val_loss: 0.2708 - val_root_mean_squared_error: 0.5204\n",
            "Epoch 13/30\n",
            "258/258 [==============================] - 1s 2ms/step - loss: 0.2455 - root_mean_squared_error: 0.4955 - val_loss: 0.2671 - val_root_mean_squared_error: 0.5169\n",
            "Epoch 14/30\n",
            "258/258 [==============================] - 1s 2ms/step - loss: 0.2463 - root_mean_squared_error: 0.4963 - val_loss: 0.2739 - val_root_mean_squared_error: 0.5234\n",
            "Epoch 15/30\n",
            "258/258 [==============================] - 1s 2ms/step - loss: 0.2448 - root_mean_squared_error: 0.4948 - val_loss: 0.2704 - val_root_mean_squared_error: 0.5200\n",
            "Epoch 16/30\n",
            "258/258 [==============================] - 1s 2ms/step - loss: 0.2459 - root_mean_squared_error: 0.4958 - val_loss: 0.2746 - val_root_mean_squared_error: 0.5240\n",
            "Epoch 17/30\n",
            "258/258 [==============================] - 1s 2ms/step - loss: 0.2456 - root_mean_squared_error: 0.4956 - val_loss: 0.2691 - val_root_mean_squared_error: 0.5188\n",
            "Epoch 18/30\n",
            "258/258 [==============================] - 1s 2ms/step - loss: 0.2438 - root_mean_squared_error: 0.4938 - val_loss: 0.2747 - val_root_mean_squared_error: 0.5241\n",
            "Epoch 19/30\n",
            "258/258 [==============================] - 1s 2ms/step - loss: 0.2451 - root_mean_squared_error: 0.4951 - val_loss: 0.2700 - val_root_mean_squared_error: 0.5196\n",
            "Epoch 20/30\n",
            "258/258 [==============================] - 1s 3ms/step - loss: 0.2440 - root_mean_squared_error: 0.4940 - val_loss: 0.2723 - val_root_mean_squared_error: 0.5219\n",
            "Epoch 21/30\n",
            "258/258 [==============================] - 1s 3ms/step - loss: 0.2437 - root_mean_squared_error: 0.4937 - val_loss: 0.2671 - val_root_mean_squared_error: 0.5168\n",
            "Epoch 22/30\n",
            "258/258 [==============================] - 1s 3ms/step - loss: 0.2440 - root_mean_squared_error: 0.4939 - val_loss: 0.2700 - val_root_mean_squared_error: 0.5196\n",
            "Epoch 23/30\n",
            "258/258 [==============================] - 1s 4ms/step - loss: 0.2437 - root_mean_squared_error: 0.4937 - val_loss: 0.2628 - val_root_mean_squared_error: 0.5126\n",
            "Epoch 24/30\n",
            "258/258 [==============================] - 1s 3ms/step - loss: 0.2450 - root_mean_squared_error: 0.4950 - val_loss: 0.2709 - val_root_mean_squared_error: 0.5205\n",
            "Epoch 25/30\n",
            "258/258 [==============================] - 1s 2ms/step - loss: 0.2431 - root_mean_squared_error: 0.4931 - val_loss: 0.2660 - val_root_mean_squared_error: 0.5157\n",
            "Epoch 26/30\n",
            "258/258 [==============================] - 1s 2ms/step - loss: 0.2431 - root_mean_squared_error: 0.4931 - val_loss: 0.2645 - val_root_mean_squared_error: 0.5143\n",
            "Epoch 27/30\n",
            "258/258 [==============================] - 1s 2ms/step - loss: 0.2428 - root_mean_squared_error: 0.4927 - val_loss: 0.2623 - val_root_mean_squared_error: 0.5121\n",
            "Epoch 28/30\n",
            "258/258 [==============================] - 1s 2ms/step - loss: 0.2434 - root_mean_squared_error: 0.4933 - val_loss: 0.2639 - val_root_mean_squared_error: 0.5137\n",
            "Epoch 29/30\n",
            "258/258 [==============================] - 1s 2ms/step - loss: 0.2430 - root_mean_squared_error: 0.4929 - val_loss: 0.2696 - val_root_mean_squared_error: 0.5192\n",
            "Epoch 30/30\n",
            "258/258 [==============================] - 1s 2ms/step - loss: 0.2424 - root_mean_squared_error: 0.4924 - val_loss: 0.2677 - val_root_mean_squared_error: 0.5174\n"
          ]
        },
        {
          "output_type": "execute_result",
          "data": {
            "text/plain": [
              "<keras.src.callbacks.History at 0x7ba6b3788820>"
            ]
          },
          "metadata": {},
          "execution_count": 142
        }
      ]
    },
    {
      "cell_type": "code",
      "source": [
        "plot_metrics(model)"
      ],
      "metadata": {
        "colab": {
          "base_uri": "https://localhost:8080/",
          "height": 292
        },
        "id": "9vTWPgWahcuT",
        "outputId": "e4c94d1c-16db-42f2-e5be-325d9939b179"
      },
      "execution_count": 143,
      "outputs": [
        {
          "output_type": "display_data",
          "data": {
            "text/plain": [
              "<Figure size 1000x300 with 2 Axes>"
            ],
            "image/png": "[encoded data removed]"
          },
          "metadata": {}
        }
      ]
    },
    {
      "cell_type": "markdown",
      "source": [
        "Very overfitting, But sequential is better than wide and deep network"
      ],
      "metadata": {
        "id": "md5qYZe5iRlS"
      }
    },
    {
      "cell_type": "code",
      "source": [
        "model.evaluate(X_test, y_test)"
      ],
      "metadata": {
        "colab": {
          "base_uri": "https://localhost:8080/"
        },
        "id": "ZhYE6b2IiVYz",
        "outputId": "8dbdef82-960b-40a6-d034-145cfafbaeb3"
      },
      "execution_count": 144,
      "outputs": [
        {
          "output_type": "stream",
          "name": "stdout",
          "text": [
            "39/39 [==============================] - 0s 3ms/step - loss: 0.2829 - root_mean_squared_error: 0.5319\n"
          ]
        },
        {
          "output_type": "execute_result",
          "data": {
            "text/plain": [
              "[0.2828982472419739, 0.5318818092346191]"
            ]
          },
          "metadata": {},
          "execution_count": 144
        }
      ]
    },
    {
      "cell_type": "code",
      "source": [
        "model.save(filepath='mymodel')"
      ],
      "metadata": {
        "id": "trz8A4SIihIr"
      },
      "execution_count": 145,
      "outputs": []
    },
    {
      "cell_type": "code",
      "source": [],
      "metadata": {
        "id": "_rCAveKTogSs"
      },
      "execution_count": null,
      "outputs": []
    }
  ]
}