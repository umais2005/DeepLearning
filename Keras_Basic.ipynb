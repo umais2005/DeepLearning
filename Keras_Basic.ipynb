{
  "nbformat": 4,
  "nbformat_minor": 0,
  "metadata": {
    "colab": {
      "provenance": []
    },
    "kernelspec": {
      "name": "python3",
      "display_name": "Python 3"
    },
    "language_info": {
      "name": "python"
    }
  },
  "cells": [
    {
      "cell_type": "code",
      "source": [
        "import tensorflow as tf\n",
        "import numpy as np\n",
        "from sklearn.datasets import fetch_olivetti_faces\n",
        "import pandas as pd\n",
        "import matplotlib.pyplot as plt"
      ],
      "metadata": {
        "id": "Li_gN9G_5jev"
      },
      "execution_count": 60,
      "outputs": []
    },
    {
      "cell_type": "code",
      "source": [
        "X ,y = fetch_olivetti_faces(return_X_y=True)"
      ],
      "metadata": {
        "colab": {
          "base_uri": "https://localhost:8080/"
        },
        "id": "_xted-oI1lt5",
        "outputId": "3ee24b25-bc6b-4dc2-f8bb-2995eb44192f"
      },
      "execution_count": 2,
      "outputs": [
        {
          "output_type": "stream",
          "name": "stdout",
          "text": [
            "downloading Olivetti faces from https://ndownloader.figshare.com/files/5976027 to /root/scikit_learn_data\n"
          ]
        }
      ]
    },
    {
      "cell_type": "code",
      "source": [
        "X.shape, y.shape"
      ],
      "metadata": {
        "colab": {
          "base_uri": "https://localhost:8080/"
        },
        "id": "vgjGkqjZ10eP",
        "outputId": "7c25c346-afaf-4dbd-b32d-a5788bafae56"
      },
      "execution_count": 3,
      "outputs": [
        {
          "output_type": "execute_result",
          "data": {
            "text/plain": [
              "((400, 4096), (400,))"
            ]
          },
          "metadata": {},
          "execution_count": 3
        }
      ]
    },
    {
      "cell_type": "code",
      "source": [
        "from sklearn.model_selection import train_test_split\n",
        "X_train, X_test, y_train, y_test = train_test_split(X, y, test_size=0.2,stratify=y, random_state=42)"
      ],
      "metadata": {
        "id": "ytq9T__u18aL"
      },
      "execution_count": 7,
      "outputs": []
    },
    {
      "cell_type": "code",
      "source": [
        "np.unique(y_train, return_counts=True)"
      ],
      "metadata": {
        "id": "zB8szHUH6o42",
        "outputId": "a1fb5c6a-a2f3-44ef-fcc9-3dea1a5b5f87",
        "colab": {
          "base_uri": "https://localhost:8080/"
        }
      },
      "execution_count": 10,
      "outputs": [
        {
          "output_type": "execute_result",
          "data": {
            "text/plain": [
              "(array([ 0,  1,  2,  3,  4,  5,  6,  7,  8,  9, 10, 11, 12, 13, 14, 15, 16,\n",
              "        17, 18, 19, 20, 21, 22, 23, 24, 25, 26, 27, 28, 29, 30, 31, 32, 33,\n",
              "        34, 35, 36, 37, 38, 39]),\n",
              " array([8, 8, 8, 8, 8, 8, 8, 8, 8, 8, 8, 8, 8, 8, 8, 8, 8, 8, 8, 8, 8, 8,\n",
              "        8, 8, 8, 8, 8, 8, 8, 8, 8, 8, 8, 8, 8, 8, 8, 8, 8, 8]))"
            ]
          },
          "metadata": {},
          "execution_count": 10
        }
      ]
    },
    {
      "cell_type": "code",
      "source": [
        "tf.random.set_seed(42)\n",
        "tf.keras.backend.clear_session()\n",
        "model = tf.keras.Sequential([\n",
        "    tf.keras.layers.Input(shape=(4096)),\n",
        "    tf.keras.layers.Dense(100, activation='relu'),\n",
        "    tf.keras.layers.Dense(60, activation='relu'),\n",
        "    tf.keras.layers.Dense(40, activation='softmax')])"
      ],
      "metadata": {
        "id": "V87fM1lu51yK"
      },
      "execution_count": 45,
      "outputs": []
    },
    {
      "cell_type": "code",
      "source": [
        "model.compile(loss=tf.keras.losses.SparseCategoricalCrossentropy(),\n",
        "              optimizer=tf.keras.optimizers.Adam(),\n",
        "              metrics=['accuracy'])"
      ],
      "metadata": {
        "id": "WPw30cnk7czF"
      },
      "execution_count": 46,
      "outputs": []
    },
    {
      "cell_type": "code",
      "source": [
        "weights, biases = model.get_layer('dense').get_weights()"
      ],
      "metadata": {
        "id": "IuqyHw9P9Jpv"
      },
      "execution_count": 47,
      "outputs": []
    },
    {
      "cell_type": "code",
      "source": [
        "weights.shape, biases.shape"
      ],
      "metadata": {
        "id": "l9h6hi8L-6tj",
        "outputId": "6abdfcb0-7a3f-43c7-ff94-30ddfaf8cd97",
        "colab": {
          "base_uri": "https://localhost:8080/"
        }
      },
      "execution_count": 48,
      "outputs": [
        {
          "output_type": "execute_result",
          "data": {
            "text/plain": [
              "((4096, 100), (100,))"
            ]
          },
          "metadata": {},
          "execution_count": 48
        }
      ]
    },
    {
      "cell_type": "code",
      "source": [
        "model.fit(X_train, y_train, epochs=30,validation_data=(X_test, y_test))"
      ],
      "metadata": {
        "id": "oBoyYtdT_qzu",
        "outputId": "95578faf-934d-40e0-f00f-c9cd3141bae5",
        "colab": {
          "base_uri": "https://localhost:8080/"
        }
      },
      "execution_count": 55,
      "outputs": [
        {
          "output_type": "stream",
          "name": "stdout",
          "text": [
            "Epoch 1/30\n",
            "10/10 [==============================] - 0s 30ms/step - loss: 0.9370 - accuracy: 0.8469 - val_loss: 1.1998 - val_accuracy: 0.7375\n",
            "Epoch 2/30\n",
            "10/10 [==============================] - 0s 22ms/step - loss: 0.8911 - accuracy: 0.8219 - val_loss: 1.1817 - val_accuracy: 0.7375\n",
            "Epoch 3/30\n",
            "10/10 [==============================] - 0s 21ms/step - loss: 0.8734 - accuracy: 0.8188 - val_loss: 1.1213 - val_accuracy: 0.7375\n",
            "Epoch 4/30\n",
            "10/10 [==============================] - 0s 20ms/step - loss: 0.7737 - accuracy: 0.8813 - val_loss: 1.1184 - val_accuracy: 0.7125\n",
            "Epoch 5/30\n",
            "10/10 [==============================] - 0s 25ms/step - loss: 0.7385 - accuracy: 0.8875 - val_loss: 1.1866 - val_accuracy: 0.6875\n",
            "Epoch 6/30\n",
            "10/10 [==============================] - 0s 20ms/step - loss: 0.7291 - accuracy: 0.8781 - val_loss: 1.0626 - val_accuracy: 0.7500\n",
            "Epoch 7/30\n",
            "10/10 [==============================] - 0s 19ms/step - loss: 0.6592 - accuracy: 0.9187 - val_loss: 1.1035 - val_accuracy: 0.7250\n",
            "Epoch 8/30\n",
            "10/10 [==============================] - 0s 20ms/step - loss: 0.6616 - accuracy: 0.8969 - val_loss: 1.0989 - val_accuracy: 0.7375\n",
            "Epoch 9/30\n",
            "10/10 [==============================] - 0s 31ms/step - loss: 0.6250 - accuracy: 0.9125 - val_loss: 0.9671 - val_accuracy: 0.7375\n",
            "Epoch 10/30\n",
            "10/10 [==============================] - 0s 28ms/step - loss: 0.5577 - accuracy: 0.9219 - val_loss: 0.8886 - val_accuracy: 0.7625\n",
            "Epoch 11/30\n",
            "10/10 [==============================] - 0s 18ms/step - loss: 0.5263 - accuracy: 0.9438 - val_loss: 0.8387 - val_accuracy: 0.7875\n",
            "Epoch 12/30\n",
            "10/10 [==============================] - 0s 12ms/step - loss: 0.5064 - accuracy: 0.9312 - val_loss: 0.9334 - val_accuracy: 0.7625\n",
            "Epoch 13/30\n",
            "10/10 [==============================] - 0s 12ms/step - loss: 0.4952 - accuracy: 0.9281 - val_loss: 0.9669 - val_accuracy: 0.7250\n",
            "Epoch 14/30\n",
            "10/10 [==============================] - 0s 11ms/step - loss: 0.4868 - accuracy: 0.9219 - val_loss: 0.9466 - val_accuracy: 0.6750\n",
            "Epoch 15/30\n",
            "10/10 [==============================] - 0s 13ms/step - loss: 0.5036 - accuracy: 0.9094 - val_loss: 0.8609 - val_accuracy: 0.8000\n",
            "Epoch 16/30\n",
            "10/10 [==============================] - 0s 13ms/step - loss: 0.4156 - accuracy: 0.9531 - val_loss: 0.9734 - val_accuracy: 0.6875\n",
            "Epoch 17/30\n",
            "10/10 [==============================] - 0s 12ms/step - loss: 0.4276 - accuracy: 0.9375 - val_loss: 0.8116 - val_accuracy: 0.7875\n",
            "Epoch 18/30\n",
            "10/10 [==============================] - 0s 13ms/step - loss: 0.3902 - accuracy: 0.9375 - val_loss: 0.7345 - val_accuracy: 0.8250\n",
            "Epoch 19/30\n",
            "10/10 [==============================] - 0s 11ms/step - loss: 0.3737 - accuracy: 0.9531 - val_loss: 0.7870 - val_accuracy: 0.7875\n",
            "Epoch 20/30\n",
            "10/10 [==============================] - 0s 11ms/step - loss: 0.3698 - accuracy: 0.9656 - val_loss: 0.7749 - val_accuracy: 0.7625\n",
            "Epoch 21/30\n",
            "10/10 [==============================] - 0s 11ms/step - loss: 0.3458 - accuracy: 0.9531 - val_loss: 0.7293 - val_accuracy: 0.7875\n",
            "Epoch 22/30\n",
            "10/10 [==============================] - 0s 12ms/step - loss: 0.2967 - accuracy: 0.9688 - val_loss: 0.6807 - val_accuracy: 0.8000\n",
            "Epoch 23/30\n",
            "10/10 [==============================] - 0s 12ms/step - loss: 0.2751 - accuracy: 0.9875 - val_loss: 0.6421 - val_accuracy: 0.8125\n",
            "Epoch 24/30\n",
            "10/10 [==============================] - 0s 11ms/step - loss: 0.2453 - accuracy: 0.9844 - val_loss: 0.6508 - val_accuracy: 0.8375\n",
            "Epoch 25/30\n",
            "10/10 [==============================] - 0s 15ms/step - loss: 0.2592 - accuracy: 0.9688 - val_loss: 0.6432 - val_accuracy: 0.8500\n",
            "Epoch 26/30\n",
            "10/10 [==============================] - 0s 12ms/step - loss: 0.2479 - accuracy: 0.9906 - val_loss: 0.6723 - val_accuracy: 0.8250\n",
            "Epoch 27/30\n",
            "10/10 [==============================] - 0s 11ms/step - loss: 0.2665 - accuracy: 0.9719 - val_loss: 0.6194 - val_accuracy: 0.8375\n",
            "Epoch 28/30\n",
            "10/10 [==============================] - 0s 13ms/step - loss: 0.2426 - accuracy: 0.9719 - val_loss: 0.5711 - val_accuracy: 0.8500\n",
            "Epoch 29/30\n",
            "10/10 [==============================] - 0s 13ms/step - loss: 0.2166 - accuracy: 0.9875 - val_loss: 0.5758 - val_accuracy: 0.8375\n",
            "Epoch 30/30\n",
            "10/10 [==============================] - 0s 12ms/step - loss: 0.1935 - accuracy: 0.9906 - val_loss: 0.5753 - val_accuracy: 0.8625\n"
          ]
        },
        {
          "output_type": "execute_result",
          "data": {
            "text/plain": [
              "<keras.src.callbacks.History at 0x7b9930e44790>"
            ]
          },
          "metadata": {},
          "execution_count": 55
        }
      ]
    },
    {
      "cell_type": "code",
      "source": [
        "model_history_df = pd.DataFrame(model.history.history)"
      ],
      "metadata": {
        "id": "kAkiDbCzAhKr"
      },
      "execution_count": 56,
      "outputs": []
    },
    {
      "cell_type": "code",
      "source": [
        "model_history_df.head()"
      ],
      "metadata": {
        "id": "QQoYCzSVEFeZ",
        "outputId": "8fa705c1-4842-4fa0-9fc7-01222ed8f324",
        "colab": {
          "base_uri": "https://localhost:8080/",
          "height": 206
        }
      },
      "execution_count": 64,
      "outputs": [
        {
          "output_type": "execute_result",
          "data": {
            "text/plain": [
              "       loss  accuracy  val_loss  val_accuracy\n",
              "0  0.936990  0.846875  1.199807        0.7375\n",
              "1  0.891132  0.821875  1.181651        0.7375\n",
              "2  0.873410  0.818750  1.121283        0.7375\n",
              "3  0.773669  0.881250  1.118404        0.7125\n",
              "4  0.738489  0.887500  1.186595        0.6875"
            ],
            "text/html": [
              "\n",
              "  <div id=\"df-1d2c181e-b691-47f5-b536-596725b267a2\" class=\"colab-df-container\">\n",
              "    <div>\n",
              "<style scoped>\n",
              "    .dataframe tbody tr th:only-of-type {\n",
              "        vertical-align: middle;\n",
              "    }\n",
              "\n",
              "    .dataframe tbody tr th {\n",
              "        vertical-align: top;\n",
              "    }\n",
              "\n",
              "    .dataframe thead th {\n",
              "        text-align: right;\n",
              "    }\n",
              "</style>\n",
              "<table border=\"1\" class=\"dataframe\">\n",
              "  <thead>\n",
              "    <tr style=\"text-align: right;\">\n",
              "      <th></th>\n",
              "      <th>loss</th>\n",
              "      <th>accuracy</th>\n",
              "      <th>val_loss</th>\n",
              "      <th>val_accuracy</th>\n",
              "    </tr>\n",
              "  </thead>\n",
              "  <tbody>\n",
              "    <tr>\n",
              "      <th>0</th>\n",
              "      <td>0.936990</td>\n",
              "      <td>0.846875</td>\n",
              "      <td>1.199807</td>\n",
              "      <td>0.7375</td>\n",
              "    </tr>\n",
              "    <tr>\n",
              "      <th>1</th>\n",
              "      <td>0.891132</td>\n",
              "      <td>0.821875</td>\n",
              "      <td>1.181651</td>\n",
              "      <td>0.7375</td>\n",
              "    </tr>\n",
              "    <tr>\n",
              "      <th>2</th>\n",
              "      <td>0.873410</td>\n",
              "      <td>0.818750</td>\n",
              "      <td>1.121283</td>\n",
              "      <td>0.7375</td>\n",
              "    </tr>\n",
              "    <tr>\n",
              "      <th>3</th>\n",
              "      <td>0.773669</td>\n",
              "      <td>0.881250</td>\n",
              "      <td>1.118404</td>\n",
              "      <td>0.7125</td>\n",
              "    </tr>\n",
              "    <tr>\n",
              "      <th>4</th>\n",
              "      <td>0.738489</td>\n",
              "      <td>0.887500</td>\n",
              "      <td>1.186595</td>\n",
              "      <td>0.6875</td>\n",
              "    </tr>\n",
              "  </tbody>\n",
              "</table>\n",
              "</div>\n",
              "    <div class=\"colab-df-buttons\">\n",
              "\n",
              "  <div class=\"colab-df-container\">\n",
              "    <button class=\"colab-df-convert\" onclick=\"convertToInteractive('df-1d2c181e-b691-47f5-b536-596725b267a2')\"\n",
              "            title=\"Convert this dataframe to an interactive table.\"\n",
              "            style=\"display:none;\">\n",
              "\n",
              "  <svg xmlns=\"http://www.w3.org/2000/svg\" height=\"24px\" viewBox=\"0 -960 960 960\">\n",
              "    <path d=\"M120-120v-720h720v720H120Zm60-500h600v-160H180v160Zm220 220h160v-160H400v160Zm0 220h160v-160H400v160ZM180-400h160v-160H180v160Zm440 0h160v-160H620v160ZM180-180h160v-160H180v160Zm440 0h160v-160H620v160Z\"/>\n",
              "  </svg>\n",
              "    </button>\n",
              "\n",
              "  <style>\n",
              "    .colab-df-container {\n",
              "      display:flex;\n",
              "      gap: 12px;\n",
              "    }\n",
              "\n",
              "    .colab-df-convert {\n",
              "      background-color: #E8F0FE;\n",
              "      border: none;\n",
              "      border-radius: 50%;\n",
              "      cursor: pointer;\n",
              "      display: none;\n",
              "      fill: #1967D2;\n",
              "      height: 32px;\n",
              "      padding: 0 0 0 0;\n",
              "      width: 32px;\n",
              "    }\n",
              "\n",
              "    .colab-df-convert:hover {\n",
              "      background-color: #E2EBFA;\n",
              "      box-shadow: 0px 1px 2px rgba(60, 64, 67, 0.3), 0px 1px 3px 1px rgba(60, 64, 67, 0.15);\n",
              "      fill: #174EA6;\n",
              "    }\n",
              "\n",
              "    .colab-df-buttons div {\n",
              "      margin-bottom: 4px;\n",
              "    }\n",
              "\n",
              "    [theme=dark] .colab-df-convert {\n",
              "      background-color: #3B4455;\n",
              "      fill: #D2E3FC;\n",
              "    }\n",
              "\n",
              "    [theme=dark] .colab-df-convert:hover {\n",
              "      background-color: #434B5C;\n",
              "      box-shadow: 0px 1px 3px 1px rgba(0, 0, 0, 0.15);\n",
              "      filter: drop-shadow(0px 1px 2px rgba(0, 0, 0, 0.3));\n",
              "      fill: #FFFFFF;\n",
              "    }\n",
              "  </style>\n",
              "\n",
              "    <script>\n",
              "      const buttonEl =\n",
              "        document.querySelector('#df-1d2c181e-b691-47f5-b536-596725b267a2 button.colab-df-convert');\n",
              "      buttonEl.style.display =\n",
              "        google.colab.kernel.accessAllowed ? 'block' : 'none';\n",
              "\n",
              "      async function convertToInteractive(key) {\n",
              "        const element = document.querySelector('#df-1d2c181e-b691-47f5-b536-596725b267a2');\n",
              "        const dataTable =\n",
              "          await google.colab.kernel.invokeFunction('convertToInteractive',\n",
              "                                                    [key], {});\n",
              "        if (!dataTable) return;\n",
              "\n",
              "        const docLinkHtml = 'Like what you see? Visit the ' +\n",
              "          '<a target=\"_blank\" href=https://colab.research.google.com/notebooks/data_table.ipynb>data table notebook</a>'\n",
              "          + ' to learn more about interactive tables.';\n",
              "        element.innerHTML = '';\n",
              "        dataTable['output_type'] = 'display_data';\n",
              "        await google.colab.output.renderOutput(dataTable, element);\n",
              "        const docLink = document.createElement('div');\n",
              "        docLink.innerHTML = docLinkHtml;\n",
              "        element.appendChild(docLink);\n",
              "      }\n",
              "    </script>\n",
              "  </div>\n",
              "\n",
              "\n",
              "<div id=\"df-51e90e10-7086-43b2-ac7d-f57ad83866fb\">\n",
              "  <button class=\"colab-df-quickchart\" onclick=\"quickchart('df-51e90e10-7086-43b2-ac7d-f57ad83866fb')\"\n",
              "            title=\"Suggest charts\"\n",
              "            style=\"display:none;\">\n",
              "\n",
              "<svg xmlns=\"http://www.w3.org/2000/svg\" height=\"24px\"viewBox=\"0 0 24 24\"\n",
              "     width=\"24px\">\n",
              "    <g>\n",
              "        <path d=\"M19 3H5c-1.1 0-2 .9-2 2v14c0 1.1.9 2 2 2h14c1.1 0 2-.9 2-2V5c0-1.1-.9-2-2-2zM9 17H7v-7h2v7zm4 0h-2V7h2v10zm4 0h-2v-4h2v4z\"/>\n",
              "    </g>\n",
              "</svg>\n",
              "  </button>\n",
              "\n",
              "<style>\n",
              "  .colab-df-quickchart {\n",
              "      --bg-color: #E8F0FE;\n",
              "      --fill-color: #1967D2;\n",
              "      --hover-bg-color: #E2EBFA;\n",
              "      --hover-fill-color: #174EA6;\n",
              "      --disabled-fill-color: #AAA;\n",
              "      --disabled-bg-color: #DDD;\n",
              "  }\n",
              "\n",
              "  [theme=dark] .colab-df-quickchart {\n",
              "      --bg-color: #3B4455;\n",
              "      --fill-color: #D2E3FC;\n",
              "      --hover-bg-color: #434B5C;\n",
              "      --hover-fill-color: #FFFFFF;\n",
              "      --disabled-bg-color: #3B4455;\n",
              "      --disabled-fill-color: #666;\n",
              "  }\n",
              "\n",
              "  .colab-df-quickchart {\n",
              "    background-color: var(--bg-color);\n",
              "    border: none;\n",
              "    border-radius: 50%;\n",
              "    cursor: pointer;\n",
              "    display: none;\n",
              "    fill: var(--fill-color);\n",
              "    height: 32px;\n",
              "    padding: 0;\n",
              "    width: 32px;\n",
              "  }\n",
              "\n",
              "  .colab-df-quickchart:hover {\n",
              "    background-color: var(--hover-bg-color);\n",
              "    box-shadow: 0 1px 2px rgba(60, 64, 67, 0.3), 0 1px 3px 1px rgba(60, 64, 67, 0.15);\n",
              "    fill: var(--button-hover-fill-color);\n",
              "  }\n",
              "\n",
              "  .colab-df-quickchart-complete:disabled,\n",
              "  .colab-df-quickchart-complete:disabled:hover {\n",
              "    background-color: var(--disabled-bg-color);\n",
              "    fill: var(--disabled-fill-color);\n",
              "    box-shadow: none;\n",
              "  }\n",
              "\n",
              "  .colab-df-spinner {\n",
              "    border: 2px solid var(--fill-color);\n",
              "    border-color: transparent;\n",
              "    border-bottom-color: var(--fill-color);\n",
              "    animation:\n",
              "      spin 1s steps(1) infinite;\n",
              "  }\n",
              "\n",
              "  @keyframes spin {\n",
              "    0% {\n",
              "      border-color: transparent;\n",
              "      border-bottom-color: var(--fill-color);\n",
              "      border-left-color: var(--fill-color);\n",
              "    }\n",
              "    20% {\n",
              "      border-color: transparent;\n",
              "      border-left-color: var(--fill-color);\n",
              "      border-top-color: var(--fill-color);\n",
              "    }\n",
              "    30% {\n",
              "      border-color: transparent;\n",
              "      border-left-color: var(--fill-color);\n",
              "      border-top-color: var(--fill-color);\n",
              "      border-right-color: var(--fill-color);\n",
              "    }\n",
              "    40% {\n",
              "      border-color: transparent;\n",
              "      border-right-color: var(--fill-color);\n",
              "      border-top-color: var(--fill-color);\n",
              "    }\n",
              "    60% {\n",
              "      border-color: transparent;\n",
              "      border-right-color: var(--fill-color);\n",
              "    }\n",
              "    80% {\n",
              "      border-color: transparent;\n",
              "      border-right-color: var(--fill-color);\n",
              "      border-bottom-color: var(--fill-color);\n",
              "    }\n",
              "    90% {\n",
              "      border-color: transparent;\n",
              "      border-bottom-color: var(--fill-color);\n",
              "    }\n",
              "  }\n",
              "</style>\n",
              "\n",
              "  <script>\n",
              "    async function quickchart(key) {\n",
              "      const quickchartButtonEl =\n",
              "        document.querySelector('#' + key + ' button');\n",
              "      quickchartButtonEl.disabled = true;  // To prevent multiple clicks.\n",
              "      quickchartButtonEl.classList.add('colab-df-spinner');\n",
              "      try {\n",
              "        const charts = await google.colab.kernel.invokeFunction(\n",
              "            'suggestCharts', [key], {});\n",
              "      } catch (error) {\n",
              "        console.error('Error during call to suggestCharts:', error);\n",
              "      }\n",
              "      quickchartButtonEl.classList.remove('colab-df-spinner');\n",
              "      quickchartButtonEl.classList.add('colab-df-quickchart-complete');\n",
              "    }\n",
              "    (() => {\n",
              "      let quickchartButtonEl =\n",
              "        document.querySelector('#df-51e90e10-7086-43b2-ac7d-f57ad83866fb button');\n",
              "      quickchartButtonEl.style.display =\n",
              "        google.colab.kernel.accessAllowed ? 'block' : 'none';\n",
              "    })();\n",
              "  </script>\n",
              "</div>\n",
              "\n",
              "    </div>\n",
              "  </div>\n"
            ],
            "application/vnd.google.colaboratory.intrinsic+json": {
              "type": "dataframe",
              "variable_name": "model_history_df",
              "summary": "{\n  \"name\": \"model_history_df\",\n  \"rows\": 30,\n  \"fields\": [\n    {\n      \"column\": \"loss\",\n      \"properties\": {\n        \"dtype\": \"number\",\n        \"std\": 0.21862128024019023,\n        \"min\": 0.19347721338272095,\n        \"max\": 0.9369900822639465,\n        \"num_unique_values\": 30,\n        \"samples\": [\n          0.24262969195842743,\n          0.4155634343624115,\n          0.24531129002571106\n        ],\n        \"semantic_type\": \"\",\n        \"description\": \"\"\n      }\n    },\n    {\n      \"column\": \"accuracy\",\n      \"properties\": {\n        \"dtype\": \"number\",\n        \"std\": 0.04788413366501509,\n        \"min\": 0.8187500238418579,\n        \"max\": 0.9906250238418579,\n        \"num_unique_values\": 22,\n        \"samples\": [\n          0.846875011920929,\n          0.909375011920929,\n          0.9125000238418579\n        ],\n        \"semantic_type\": \"\",\n        \"description\": \"\"\n      }\n    },\n    {\n      \"column\": \"val_loss\",\n      \"properties\": {\n        \"dtype\": \"number\",\n        \"std\": 0.20544835147352314,\n        \"min\": 0.5711473226547241,\n        \"max\": 1.1998072862625122,\n        \"num_unique_values\": 30,\n        \"samples\": [\n          0.5711473226547241,\n          0.9734272956848145,\n          0.6508010029792786\n        ],\n        \"semantic_type\": \"\",\n        \"description\": \"\"\n      }\n    },\n    {\n      \"column\": \"val_accuracy\",\n      \"properties\": {\n        \"dtype\": \"number\",\n        \"std\": 0.05292452682394172,\n        \"min\": 0.675000011920929,\n        \"max\": 0.862500011920929,\n        \"num_unique_values\": 14,\n        \"samples\": [\n          0.824999988079071,\n          0.8374999761581421,\n          0.737500011920929\n        ],\n        \"semantic_type\": \"\",\n        \"description\": \"\"\n      }\n    }\n  ]\n}"
            }
          },
          "metadata": {},
          "execution_count": 64
        }
      ]
    },
    {
      "cell_type": "code",
      "source": [
        "plt.figure(figsize=(10,3))\n",
        "model_history_df[['accuracy','val_accuracy']].plot()\n",
        "model_history_df[['loss','val_loss']].plot()"
      ],
      "metadata": {
        "id": "EEEyvODICPJd",
        "outputId": "101c251e-3741-488d-c079-84c77d5978a6",
        "colab": {
          "base_uri": "https://localhost:8080/",
          "height": 878
        }
      },
      "execution_count": 69,
      "outputs": [
        {
          "output_type": "execute_result",
          "data": {
            "text/plain": [
              "<Axes: >"
            ]
          },
          "metadata": {},
          "execution_count": 69
        },
        {
          "output_type": "display_data",
          "data": {
            "text/plain": [
              "<Figure size 1000x300 with 0 Axes>"
            ]
          },
          "metadata": {}
        },
        {
          "output_type": "display_data",
          "data": {
            "text/plain": [
              "<Figure size 640x480 with 1 Axes>"
            ],
            "image/png": "[encoded data removed]"
          },
          "metadata": {}
        },
        {
          "output_type": "display_data",
          "data": {
            "text/plain": [
              "<Figure size 640x480 with 1 Axes>"
            ],
            "image/png": "[encoded data removed]"
          },
          "metadata": {}
        }
      ]
    },
    {
      "cell_type": "markdown",
      "source": [
        "We can see the model is overfitting."
      ],
      "metadata": {
        "id": "vnAyK2CKCsIH"
      }
    },
    {
      "cell_type": "code",
      "source": [],
      "metadata": {
        "id": "0C_MQ4bREq4-"
      },
      "execution_count": null,
      "outputs": []
    }
  ]
}